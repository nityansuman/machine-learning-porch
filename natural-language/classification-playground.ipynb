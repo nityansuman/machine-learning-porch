{
 "cells": [
  {
   "cell_type": "markdown",
   "metadata": {},
   "source": [
    "# Setup"
   ]
  },
  {
   "cell_type": "code",
   "execution_count": 1,
   "metadata": {
    "ExecuteTime": {
     "end_time": "2021-02-08T00:46:13.250219Z",
     "start_time": "2021-02-08T00:46:12.333890Z"
    }
   },
   "outputs": [
    {
     "data": {
      "text/plain": [
       "'2.3.0'"
      ]
     },
     "execution_count": 1,
     "metadata": {},
     "output_type": "execute_result"
    }
   ],
   "source": [
    "# Import packages\n",
    "import os\n",
    "import re\n",
    "import string\n",
    "import numpy as np\n",
    "import matplotlib.pyplot as plt\n",
    "\n",
    "import tensorflow as tf\n",
    "import tensorflow_datasets as tfds\n",
    "from tensorflow.keras import layers\n",
    "from tensorflow.keras.layers.experimental.preprocessing import TextVectorization\n",
    "\n",
    "tf.__version__ # 2.x"
   ]
  },
  {
   "cell_type": "markdown",
   "metadata": {},
   "source": [
    "## Setup input pipeline"
   ]
  },
  {
   "cell_type": "code",
   "execution_count": 2,
   "metadata": {
    "ExecuteTime": {
     "end_time": "2021-02-08T00:46:14.237114Z",
     "start_time": "2021-02-08T00:46:13.251236Z"
    }
   },
   "outputs": [
    {
     "name": "stdout",
     "output_type": "stream",
     "text": [
      "(TensorSpec(shape=(), dtype=tf.string, name=None), TensorSpec(shape=(), dtype=tf.int64, name=None)) (TensorSpec(shape=(), dtype=tf.string, name=None), TensorSpec(shape=(), dtype=tf.int64, name=None))\n"
     ]
    }
   ],
   "source": [
    "# Load dataset\n",
    "dataset, info = tfds.load(name = \"imdb_reviews\", with_info=True, as_supervised=True)\n",
    "train_dataset, test_dataset = dataset[\"train\"], dataset[\"test\"]\n",
    "\n",
    "print(train_dataset.element_spec, test_dataset.element_spec)"
   ]
  },
  {
   "cell_type": "code",
   "execution_count": 3,
   "metadata": {
    "ExecuteTime": {
     "end_time": "2021-02-08T00:46:14.286182Z",
     "start_time": "2021-02-08T00:46:14.241416Z"
    }
   },
   "outputs": [
    {
     "name": "stdout",
     "output_type": "stream",
     "text": [
      "Review; tf.Tensor(b\"This was an absolutely terrible movie. Don't be lured in by Christopher Walken or Michael Ironside. Both are great actors, but this must simply be their worst role in history. Even their great acting could not redeem this movie's ridiculous storyline. This movie is an early nineties US propaganda piece. The most pathetic scenes were those when the Columbian rebels were making their cases for revolutions. Maria Conchita Alonso appeared phony, and her pseudo-love affair with Walken was nothing but a pathetic emotional plug in a movie that was devoid of any real meaning. I am disappointed that there are movies like this, ruining actor's like Christopher Walken's good name. I could barely sit through it.\", shape=(), dtype=string)\n",
      "Label: tf.Tensor(0, shape=(), dtype=int64)\n"
     ]
    }
   ],
   "source": [
    "for review, label in train_dataset.take(1):\n",
    "    print(\"Review;\", review)\n",
    "    print(\"Label:\", label)"
   ]
  },
  {
   "cell_type": "code",
   "execution_count": 4,
   "metadata": {
    "ExecuteTime": {
     "end_time": "2021-02-08T00:46:14.315684Z",
     "start_time": "2021-02-08T00:46:14.287586Z"
    }
   },
   "outputs": [
    {
     "name": "stdout",
     "output_type": "stream",
     "text": [
      "Review; tf.Tensor(b\"There are films that make careers. For George Romero, it was NIGHT OF THE LIVING DEAD; for Kevin Smith, CLERKS; for Robert Rodriguez, EL MARIACHI. Add to that list Onur Tukel's absolutely amazing DING-A-LING-LESS. Flawless film-making, and as assured and as professional as any of the aforementioned movies. I haven't laughed this hard since I saw THE FULL MONTY. (And, even then, I don't think I laughed quite this hard... So to speak.) Tukel's talent is considerable: DING-A-LING-LESS is so chock full of double entendres that one would have to sit down with a copy of this script and do a line-by-line examination of it to fully appreciate the, uh, breadth and width of it. Every shot is beautifully composed (a clear sign of a sure-handed director), and the performances all around are solid (there's none of the over-the-top scenery chewing one might've expected from a film like this). DING-A-LING-LESS is a film whose time has come.\", shape=(), dtype=string)\n",
      "Label: tf.Tensor(1, shape=(), dtype=int64)\n"
     ]
    }
   ],
   "source": [
    "for review, label in test_dataset.take(1):\n",
    "    print(\"Review;\", review)\n",
    "    print(\"Label:\", label)"
   ]
  },
  {
   "cell_type": "code",
   "execution_count": 5,
   "metadata": {},
   "outputs": [],
   "source": [
    "BUFFER_SIZE = 5000\n",
    "BUFFER_BS = 64\n",
    "\n",
    "# Create optimized input pipeline\n",
    "train_dataset = train_dataset.shuffle(BUFFER_SIZE).batch(BUFFER_BS).prefetch(tf.data.experimental.AUTOTUNE)\n",
    "test_dataset = test_dataset.shuffle(BUFFER_SIZE).batch(BUFFER_BS).prefetch(tf.data.experimental.AUTOTUNE)"
   ]
  },
  {
   "cell_type": "markdown",
   "metadata": {},
   "source": [
    "## Data prepocessing"
   ]
  },
  {
   "cell_type": "code",
   "execution_count": 6,
   "metadata": {},
   "outputs": [],
   "source": [
    "VOCAB_SIZE = 10000\n",
    "MAX_SEQUENCE_LENGTH = 256\n",
    "\n",
    "# Create custom standardization to clean data\n",
    "def custom_standardization(input_data):\n",
    "    lowercase = tf.strings.lower(input_data)\n",
    "    stripped_html = tf.strings.regex_replace(lowercase, \"<br />\", \" \")\n",
    "    return tf.strings.regex_replace(\n",
    "        stripped_html, \"[%s]\" % re.escape(string.punctuation), \"\"\n",
    "    )\n",
    "\n",
    "# Create a tex vecotrizer\n",
    "encoder = TextVectorization(\n",
    "    max_tokens = VOCAB_SIZE,\n",
    "    standardize = custom_standardization,\n",
    "    split=\"whitespace\",\n",
    "    output_mode=\"int\",\n",
    "    output_sequence_length=MAX_SEQUENCE_LENGTH\n",
    ")\n",
    "\n",
    "# Learn encoder on train dataset\n",
    "encoder.adapt(train_dataset.map(lambda text, label: text))\n",
    "\n",
    "def vectorize_text(text, label):\n",
    "    text = tf.expand_dims(text, -1)\n",
    "    return encoder(text), label\n",
    "\n",
    "# Vectorize train and test datasets\n",
    "train_dataset = train_dataset.map(vectorize_text)\n",
    "test_dataset = test_dataset.map(vectorize_text)"
   ]
  },
  {
   "cell_type": "code",
   "execution_count": 7,
   "metadata": {},
   "outputs": [
    {
     "name": "stdout",
     "output_type": "stream",
     "text": [
      "Review; tf.Tensor(\n",
      "[[100   1   4 ...   0   0   0]\n",
      " [ 11  17   7 ...   0   0   0]\n",
      " [  2   1  66 ...   0   0   0]\n",
      " ...\n",
      " [ 10 209  11 ...   0   0   0]\n",
      " [285  20   1 ...   0   0   0]\n",
      " [  4  52  49 ...   0   0   0]], shape=(64, 256), dtype=int64)\n",
      "Label: tf.Tensor(\n",
      "[1 0 1 0 0 0 1 1 0 1 1 0 1 0 0 0 0 1 1 0 0 0 0 1 1 0 0 1 1 1 1 0 0 0 0 0 1\n",
      " 0 1 0 1 0 0 1 1 1 1 0 0 1 0 1 0 1 1 0 1 1 1 0 0 1 0 1], shape=(64,), dtype=int64)\n"
     ]
    }
   ],
   "source": [
    "for review, label in train_dataset.take(1):\n",
    "    print(\"Review;\", review)\n",
    "    print(\"Label:\", label)"
   ]
  },
  {
   "cell_type": "code",
   "execution_count": 8,
   "metadata": {},
   "outputs": [
    {
     "name": "stdout",
     "output_type": "stream",
     "text": [
      "Review; tf.Tensor(\n",
      "[[   8 4568  701 ...    0    0    0]\n",
      " [  11  349    7 ...    0    0    0]\n",
      " [ 142    4  638 ...    0    0    0]\n",
      " ...\n",
      " [2884 4932    7 ...    0    0    0]\n",
      " [  10  209   11 ...    9  895    5]\n",
      " [   1   10   40 ...    0    0    0]], shape=(64, 256), dtype=int64)\n",
      "Label: tf.Tensor(\n",
      "[0 1 1 1 0 0 0 0 1 0 1 1 0 0 0 0 1 0 1 0 0 0 1 0 1 0 0 1 0 1 0 1 0 0 0 1 1\n",
      " 0 1 0 1 1 0 0 0 1 1 0 1 1 1 1 0 1 0 1 0 1 0 1 1 1 0 1], shape=(64,), dtype=int64)\n"
     ]
    }
   ],
   "source": [
    "for review, label in test_dataset.take(1):\n",
    "    print(\"Review;\", review)\n",
    "    print(\"Label:\", label)"
   ]
  },
  {
   "cell_type": "markdown",
   "metadata": {},
   "source": [
    "## Modelling"
   ]
  },
  {
   "cell_type": "markdown",
   "metadata": {},
   "source": [
    "### Text Classification using CNNs"
   ]
  },
  {
   "cell_type": "code",
   "execution_count": 9,
   "metadata": {
    "ExecuteTime": {
     "end_time": "2021-02-08T00:46:18.092773Z",
     "start_time": "2021-02-08T00:46:18.060330Z"
    }
   },
   "outputs": [],
   "source": [
    "from conv_classifier import ConvClassifier"
   ]
  },
  {
   "cell_type": "code",
   "execution_count": 10,
   "metadata": {
    "ExecuteTime": {
     "end_time": "2021-02-08T00:51:07.658920Z",
     "start_time": "2021-02-08T00:46:18.105471Z"
    }
   },
   "outputs": [
    {
     "name": "stdout",
     "output_type": "stream",
     "text": [
      "Epoch 1/10\n",
      "391/391 [==============================] - 5s 13ms/step - loss: 0.4715 - accuracy: 0.7436 - val_loss: 0.3097 - val_accuracy: 0.8641\n",
      "Epoch 2/10\n",
      "391/391 [==============================] - 5s 13ms/step - loss: 0.2366 - accuracy: 0.9040 - val_loss: 0.3190 - val_accuracy: 0.8578\n",
      "Epoch 3/10\n",
      "391/391 [==============================] - 5s 13ms/step - loss: 0.1388 - accuracy: 0.9492 - val_loss: 0.4261 - val_accuracy: 0.8594\n"
     ]
    }
   ],
   "source": [
    "EMBEDDING_DIM = 100\n",
    "\n",
    "# Instantiate model\n",
    "model = ConvClassifier(vocab_size=VOCAB_SIZE, embedding_dim=EMBEDDING_DIM)\n",
    "\n",
    "# Compile model\n",
    "model.compile(loss=\"binary_crossentropy\", optimizer=\"adam\", metrics=[\"accuracy\"])\n",
    "\n",
    "# Train and validation\n",
    "history = model.fit(\n",
    "    train_dataset,\n",
    "    epochs=10,\n",
    "    validation_data=test_dataset,\n",
    "    validation_steps=10,\n",
    "    callbacks=[tf.keras.callbacks.EarlyStopping(monitor=\"val_loss\", patience=2)]\n",
    ")"
   ]
  },
  {
   "cell_type": "code",
   "execution_count": 11,
   "metadata": {},
   "outputs": [
    {
     "name": "stdout",
     "output_type": "stream",
     "text": [
      "dict_keys(['loss', 'accuracy', 'val_loss', 'val_accuracy'])\n"
     ]
    },
    {
     "data": {
      "image/png": "[encoded data removed]",
      "text/plain": [
       "<Figure size 432x288 with 1 Axes>"
      ]
     },
     "metadata": {
      "needs_background": "light"
     },
     "output_type": "display_data"
    },
    {
     "data": {
      "image/png": "[encoded data removed]",
      "text/plain": [
       "<Figure size 432x288 with 1 Axes>"
      ]
     },
     "metadata": {
      "needs_background": "light"
     },
     "output_type": "display_data"
    }
   ],
   "source": [
    "print(history.history.keys())\n",
    "\n",
    "# Summarize history for accuracy\n",
    "plt.plot(history.history[\"accuracy\"])\n",
    "plt.plot(history.history[\"val_accuracy\"])\n",
    "plt.title(\"model accuracy\")\n",
    "plt.ylabel(\"accuracy\")\n",
    "plt.xlabel(\"epoch\")\n",
    "plt.legend([\"train\", \"val\"], loc=\"upper left\")\n",
    "plt.show()\n",
    "\n",
    "# Summarize history for loss\n",
    "plt.plot(history.history[\"loss\"])\n",
    "plt.plot(history.history[\"val_loss\"])\n",
    "plt.title(\"model loss\")\n",
    "plt.ylabel(\"loss\")\n",
    "plt.xlabel(\"epoch\")\n",
    "plt.legend([\"train\", \"val\"], loc=\"upper left\")\n",
    "plt.show()"
   ]
  },
  {
   "cell_type": "code",
   "execution_count": 12,
   "metadata": {
    "ExecuteTime": {
     "end_time": "2021-02-08T00:51:18.010649Z",
     "start_time": "2021-02-08T00:51:07.660382Z"
    }
   },
   "outputs": [
    {
     "name": "stdout",
     "output_type": "stream",
     "text": [
      "391/391 [==============================] - 2s 6ms/step - loss: 0.4478 - accuracy: 0.8467\n",
      "Test loss: 0.4477853775024414 | Test accuracy: 0.8467199802398682\n"
     ]
    }
   ],
   "source": [
    "# Evaluate learned model on test dataset\n",
    "test_loss, test_acc = model.evaluate(test_dataset)\n",
    "\n",
    "print(f\"Test loss: {test_loss} | Test accuracy: {test_acc}\")"
   ]
  },
  {
   "cell_type": "code",
   "execution_count": null,
   "metadata": {},
   "outputs": [],
   "source": []
  }
 ],
 "metadata": {
  "kernelspec": {
   "display_name": "Python [conda env:dl-env]",
   "language": "python",
   "name": "conda-env-dl-env-py"
  },
  "language_info": {
   "codemirror_mode": {
    "name": "ipython",
    "version": 3
   },
   "file_extension": ".py",
   "mimetype": "text/x-python",
   "name": "python",
   "nbconvert_exporter": "python",
   "pygments_lexer": "ipython3",
   "version": "3.8.8"
  },
  "toc": {
   "base_numbering": 1,
   "nav_menu": {},
   "number_sections": true,
   "sideBar": true,
   "skip_h1_title": false,
   "title_cell": "Table of Contents",
   "title_sidebar": "Contents",
   "toc_cell": false,
   "toc_position": {},
   "toc_section_display": true,
   "toc_window_display": false
  }
 },
 "nbformat": 4,
 "nbformat_minor": 5
}
