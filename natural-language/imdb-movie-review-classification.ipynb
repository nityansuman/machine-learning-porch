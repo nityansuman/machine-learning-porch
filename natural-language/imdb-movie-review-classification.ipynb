{
 "cells": [
  {
   "cell_type": "markdown",
   "metadata": {},
   "source": [
    "# Setup"
   ]
  },
  {
   "cell_type": "code",
   "execution_count": 1,
   "metadata": {
    "ExecuteTime": {
     "end_time": "2021-02-08T00:46:13.250219Z",
     "start_time": "2021-02-08T00:46:12.333890Z"
    }
   },
   "outputs": [
    {
     "data": {
      "text/plain": [
       "'2.3.0'"
      ]
     },
     "execution_count": 1,
     "metadata": {},
     "output_type": "execute_result"
    }
   ],
   "source": [
    "# Import packages\n",
    "import re\n",
    "import string\n",
    "import numpy as np\n",
    "import pandas as pd\n",
    "import seaborn as sns\n",
    "import matplotlib.pyplot as plt\n",
    "\n",
    "# Models\n",
    "import tensorflow as tf\n",
    "from tensorflow.keras import layers\n",
    "from tensorflow.keras.layers.experimental.preprocessing import TextVectorization\n",
    "\n",
    "# Utilities\n",
    "import tensorflow_datasets as tfds\n",
    "from sklearn.metrics import accuracy_score, recall_score, precision_score, f1_score, confusion_matrix\n",
    "\n",
    "tf.__version__ # 2.x"
   ]
  },
  {
   "cell_type": "markdown",
   "metadata": {},
   "source": [
    "# Load Data"
   ]
  },
  {
   "cell_type": "code",
   "execution_count": 2,
   "metadata": {
    "ExecuteTime": {
     "end_time": "2021-02-08T00:46:14.237114Z",
     "start_time": "2021-02-08T00:46:13.251236Z"
    }
   },
   "outputs": [
    {
     "name": "stdout",
     "output_type": "stream",
     "text": [
      "Review; tf.Tensor(b\"This was an absolutely terrible movie. Don't be lured in by Christopher Walken or Michael Ironside. Both are great actors, but this must simply be their worst role in history. Even their great acting could not redeem this movie's ridiculous storyline. This movie is an early nineties US propaganda piece. The most pathetic scenes were those when the Columbian rebels were making their cases for revolutions. Maria Conchita Alonso appeared phony, and her pseudo-love affair with Walken was nothing but a pathetic emotional plug in a movie that was devoid of any real meaning. I am disappointed that there are movies like this, ruining actor's like Christopher Walken's good name. I could barely sit through it.\", shape=(), dtype=string)\n",
      "\n",
      "Label: tf.Tensor(0, shape=(), dtype=int64)\n",
      "Review; tf.Tensor(b\"There are films that make careers. For George Romero, it was NIGHT OF THE LIVING DEAD; for Kevin Smith, CLERKS; for Robert Rodriguez, EL MARIACHI. Add to that list Onur Tukel's absolutely amazing DING-A-LING-LESS. Flawless film-making, and as assured and as professional as any of the aforementioned movies. I haven't laughed this hard since I saw THE FULL MONTY. (And, even then, I don't think I laughed quite this hard... So to speak.) Tukel's talent is considerable: DING-A-LING-LESS is so chock full of double entendres that one would have to sit down with a copy of this script and do a line-by-line examination of it to fully appreciate the, uh, breadth and width of it. Every shot is beautifully composed (a clear sign of a sure-handed director), and the performances all around are solid (there's none of the over-the-top scenery chewing one might've expected from a film like this). DING-A-LING-LESS is a film whose time has come.\", shape=(), dtype=string)\n",
      "\n",
      "Label: tf.Tensor(1, shape=(), dtype=int64)\n"
     ]
    }
   ],
   "source": [
    "# Load data from tf dataset - loads from cloud for the first time else loads from local\n",
    "dataset, info = tfds.load(name = \"imdb_reviews\", with_info=True, as_supervised=True, data_dir=\"/home/nityan/tensorflow_datasets/\")\n",
    "train_dataset, test_dataset = dataset[\"train\"], dataset[\"test\"]\n",
    "\n",
    "# View first batch review in train\n",
    "for review, label in train_dataset.take(1):\n",
    "    print(\"Review;\", review)\n",
    "    print()\n",
    "    print(\"Label:\", label)\n",
    "\n",
    "# View first batch review in test\n",
    "for review, label in test_dataset.take(1):\n",
    "    print(\"Review;\", review)\n",
    "    print()\n",
    "    print(\"Label:\", label)"
   ]
  },
  {
   "cell_type": "code",
   "execution_count": 3,
   "metadata": {},
   "outputs": [
    {
     "name": "stdout",
     "output_type": "stream",
     "text": [
      "Dataset Info: tfds.core.DatasetInfo(\n",
      "    name='imdb_reviews',\n",
      "    full_name='imdb_reviews/plain_text/1.0.0',\n",
      "    description=\"\"\"\n",
      "    Large Movie Review Dataset.\n",
      "    This is a dataset for binary sentiment classification containing substantially more data than previous benchmark datasets. We provide a set of 25,000 highly polar movie reviews for training, and 25,000 for testing. There is additional unlabeled data for use as well.\n",
      "    \"\"\",\n",
      "    config_description=\"\"\"\n",
      "    Plain text\n",
      "    \"\"\",\n",
      "    homepage='http://ai.stanford.edu/~amaas/data/sentiment/',\n",
      "    data_path='/home/nityan/tensorflow_datasets/imdb_reviews/plain_text/1.0.0',\n",
      "    download_size=80.23 MiB,\n",
      "    dataset_size=129.83 MiB,\n",
      "    features=FeaturesDict({\n",
      "        'label': ClassLabel(shape=(), dtype=tf.int64, num_classes=2),\n",
      "        'text': Text(shape=(), dtype=tf.string),\n",
      "    }),\n",
      "    supervised_keys=('text', 'label'),\n",
      "    disable_shuffling=False,\n",
      "    splits={\n",
      "        'test': <SplitInfo num_examples=25000, num_shards=1>,\n",
      "        'train': <SplitInfo num_examples=25000, num_shards=1>,\n",
      "        'unsupervised': <SplitInfo num_examples=50000, num_shards=1>,\n",
      "    },\n",
      "    citation=\"\"\"@InProceedings{maas-EtAl:2011:ACL-HLT2011,\n",
      "      author    = {Maas, Andrew L.  and  Daly, Raymond E.  and  Pham, Peter T.  and  Huang, Dan  and  Ng, Andrew Y.  and  Potts, Christopher},\n",
      "      title     = {Learning Word Vectors for Sentiment Analysis},\n",
      "      booktitle = {Proceedings of the 49th Annual Meeting of the Association for Computational Linguistics: Human Language Technologies},\n",
      "      month     = {June},\n",
      "      year      = {2011},\n",
      "      address   = {Portland, Oregon, USA},\n",
      "      publisher = {Association for Computational Linguistics},\n",
      "      pages     = {142--150},\n",
      "      url       = {http://www.aclweb.org/anthology/P11-1015}\n",
      "    }\"\"\",\n",
      ")\n"
     ]
    }
   ],
   "source": [
    "print(\"Dataset Info:\", info)"
   ]
  },
  {
   "cell_type": "markdown",
   "metadata": {},
   "source": [
    "# Setup Input Pipeline"
   ]
  },
  {
   "cell_type": "code",
   "execution_count": 4,
   "metadata": {},
   "outputs": [
    {
     "name": "stdout",
     "output_type": "stream",
     "text": [
      "Reviews:  [b\"This title seems more like a filming exercise than a film that should have been released to be seen by the public. For Dafoe and his wife it must have been fun working together in a film for the first time, without taking into consideration that people might actually watch it. I felt like it was 90mins wasted as I waited anxiously for a plot to develop, or even begin.<br /><br />Try to fit this film into a genre and you won't, because it lacks a beginning, middle or ending. I've seen 'arty' movies before and this doesn't even come close to being arty, abstract or original, it just seems to me to be completely pointless.<br /><br />I think it speaks for itself when the only persons that rated this film a 10 were the under 18 age group. No doubt for the constant pointless erotic scenes that the film was insistent on throwing at us. That is if you can call it erotic. It certainly didn't have taste.\"\n",
      " b'Several young Iranian women dress as boys and try to get into a World Cup qualifying match between Iran and Bahrain. When they\\'re caught, they\\'re penned in an area where the match remains within earshot, but out of sight. The prisoners plead to be let go, but rules are rules.<br /><br />Given the pedigree of its director, Jafar Panahi, it was disarming to discover that Offside is a comedy, and a frequently hilarious one. In 1997\\'s The Mirror, Panahi presents two versions of Iranian girlhood and leaves the audience to wonder which one is \"real\". In 2000\\'s The Circle, several Iranian women step outside the system; their transgressions are different, but they all end up in the same tragic place.<br /><br />However, thinking now about Offside, it\\'s hard to imagine it as anything other than a comedy, because the situation it presents is so obviously ridiculous. As the women demand to know why they can\\'t watch the soccer match and their captors struggle to answer, the only possible outcome is comedy.<br /><br />What makes Offside most affecting is that the young women are not portrayed as activists attacking the system. They are simply soccer fans and patriots, and despite the fact that they are clearly being treated unfairly, they never lose their focus on the match and the historic victory that is within their nation\\'s grasp.'\n",
      " b\"I am a huge fan of Say Anything, Jerry Maguire, and Almost Famous (I wasn't that big on Singles), so it's safe to say that I look forward to anything that Cameron Crowe attaches his name to. I went to see Vanilla Sky having been told that it was a very weird movie and that I probably wouldn't like it if I was expecting anything similar to Crowe's other films. Well, having just seen it, let me say that the former was correct, and the latter couldn't have been more wrong. It is a very weird movie, and nothing really comes together until the end. Anyone who tells you that they saw it coming halfway into the movie is either lying to you or is unable to detach their hindsight from their memory. Anyway, the movie was stellar, and I look forward to owning it as soon as the DVD is released. I was moved by the film, and felt emotionally spent by the end. This is an experience that will draw from the viewer the entire spectrum of human emotion, if the viewer allows him/herself into the plot. In the theatre in which I saw the movie, there were more than a few people who clearly lost track of the movie and were bored by it when they found that they were unable to get back into the plot. I'm sure others just lack the ability to properly follow any movie like this. I don't mean that to sound pompous, but some people are more cut out for the Seagal, Chan, Van Damme genre of movies, and these are the types that probably would not enjoy this movie. It is very cerebral, so make sure you are prepared for a two hour mental bender, as well as much thought afterwards.<br /><br />As far as comparing this film to other Crowe movies, it is very similar in at least one regard, in all Crowe movies, the soundtrack is a character unto itself. This is almost definitely due to Crowe's longstanding ties to music, as anyone who has seen Almost Famous knows, and to his marriage to Heart star Nancy Wilson. It was also worthy to note that there was a definite chemistry between Tom Cruise's acting and Crowe's directing that made the movie seem familiar to anyone who has seen Jerry Maguire. In my mind, that is not a bad thing.<br /><br />Anyway, if I had to compare this movie to any one other film, I would say this: if you enjoyed David Fincher's The Game, you will almost certainly be a fan of Vanilla Sky.\"]\n",
      "\n",
      "Labels:  [0 1 1]\n"
     ]
    }
   ],
   "source": [
    "# Set buffer size and batch size\n",
    "BUFFER_SIZE = 10000\n",
    "BATCH_SIZE = 32\n",
    "\n",
    "# Create an optimized pipeline using cache and pre-fetch\n",
    "train_dataset = train_dataset.shuffle(BUFFER_SIZE).batch(BATCH_SIZE).prefetch(tf.data.experimental.AUTOTUNE)\n",
    "test_dataset = test_dataset.shuffle(BUFFER_SIZE).batch(BATCH_SIZE).prefetch(tf.data.experimental.AUTOTUNE)\n",
    "\n",
    "# View first few reviews\n",
    "for example, label in train_dataset.take(1):\n",
    "    print(\"Reviews: \", example.numpy()[:3])\n",
    "    print()\n",
    "    print(\"Labels: \", label.numpy()[:3])"
   ]
  },
  {
   "cell_type": "markdown",
   "metadata": {},
   "source": [
    "# Create Text Encoder"
   ]
  },
  {
   "cell_type": "code",
   "execution_count": 5,
   "metadata": {},
   "outputs": [],
   "source": [
    "# Set vocab metadata\n",
    "VOCAB_SIZE = 1000\n",
    "MAX_SEQUENCE_LENGTH = 512\n",
    "\n",
    "# Create custom text processor to clean data\n",
    "def text_processor(input_data):\n",
    "    # Lower input text\n",
    "    lowercase_text = tf.strings.lower(input_data)\n",
    "    \n",
    "    # Strip html tags\n",
    "    stripped_text = tf.strings.regex_replace(lowercase_text, \"<br />\", \" \")\n",
    "    \n",
    "    # Strip punctuation\n",
    "    return tf.strings.regex_replace(\n",
    "        stripped_text, \"[%s]\" % re.escape(string.punctuation), \"\"\n",
    "    )\n",
    "\n",
    "# Create a text encoder layer\n",
    "encoder_layer = TextVectorization(\n",
    "    max_tokens=VOCAB_SIZE,\n",
    "    standardize=text_processor,\n",
    "    split=\"whitespace\",\n",
    "    output_mode=\"int\",\n",
    "    output_sequence_length=MAX_SEQUENCE_LENGTH\n",
    ")\n",
    "\n",
    "# Learn encoder on train text\n",
    "encoder_layer.adapt(train_dataset.map(lambda text, label: text))"
   ]
  },
  {
   "cell_type": "code",
   "execution_count": 6,
   "metadata": {},
   "outputs": [
    {
     "name": "stdout",
     "output_type": "stream",
     "text": [
      "Vocabulary: ['' '[UNK]' 'the' 'and' 'a' 'of' 'to' 'is' 'in' 'it' 'i' 'this' 'that'\n",
      " 'was' 'as' 'for' 'with' 'movie' 'but' 'film']\n"
     ]
    }
   ],
   "source": [
    "# Get vocabulary\n",
    "vocabulary = np.array(encoder_layer.get_vocabulary())\n",
    "print(\"Vocabulary:\", vocabulary[:20])"
   ]
  },
  {
   "cell_type": "markdown",
   "metadata": {},
   "source": [
    "# Modelling"
   ]
  },
  {
   "cell_type": "code",
   "execution_count": 7,
   "metadata": {
    "ExecuteTime": {
     "end_time": "2021-02-08T00:46:18.092773Z",
     "start_time": "2021-02-08T00:46:18.060330Z"
    }
   },
   "outputs": [],
   "source": [
    "def get_bilstm_model():\n",
    "    # Instantiate sequence model\n",
    "    model = tf.keras.Sequential()\n",
    "    \n",
    "    # Encoder layer\n",
    "    model.add(encoder_layer)\n",
    "\n",
    "    # Embedding layer\n",
    "    model.add(layers.Embedding(VOCAB_SIZE, EMBEDDING_DIM, input_length=MAX_SEQUENCE_LENGTH))\n",
    "\n",
    "    # Normalization and dropout regularizer\n",
    "    model.add(layers.BatchNormalization())\n",
    "    model.add(layers.Dropout(0.4))\n",
    "    \n",
    "    # Sequence processing layer\n",
    "    model.add(layers.Bidirectional(layers.LSTM(128, return_sequences=True)))\n",
    "    model.add(layers.Bidirectional(layers.LSTM(128)))\n",
    "\n",
    "    # Dense layers with dropout regularizer\n",
    "    model.add(layers.Dense(64, activation=\"relu\"))\n",
    "    model.add(layers.Dropout(0.5))\n",
    "    model.add(layers.Dense(32, activation=\"relu\"))\n",
    "    \n",
    "    # We add the classifier on top\n",
    "    model.add(layers.Dense(1))\n",
    "    \n",
    "    return model"
   ]
  },
  {
   "cell_type": "code",
   "execution_count": 8,
   "metadata": {
    "ExecuteTime": {
     "end_time": "2021-02-08T00:51:07.658920Z",
     "start_time": "2021-02-08T00:46:18.105471Z"
    }
   },
   "outputs": [
    {
     "name": "stdout",
     "output_type": "stream",
     "text": [
      "Epoch 1/10\n",
      "782/782 [==============================] - 59s 76ms/step - loss: 0.6447 - accuracy: 0.5817 - val_loss: 0.4680 - val_accuracy: 0.7688\n",
      "Epoch 2/10\n",
      "782/782 [==============================] - 59s 76ms/step - loss: 0.4152 - accuracy: 0.8123 - val_loss: 0.3417 - val_accuracy: 0.8687\n",
      "Epoch 3/10\n",
      "782/782 [==============================] - 60s 77ms/step - loss: 0.3452 - accuracy: 0.8494 - val_loss: 0.3349 - val_accuracy: 0.8750\n",
      "Epoch 4/10\n",
      "782/782 [==============================] - 60s 77ms/step - loss: 0.3198 - accuracy: 0.8628 - val_loss: 0.4018 - val_accuracy: 0.8313\n",
      "Epoch 5/10\n",
      "782/782 [==============================] - 60s 77ms/step - loss: 0.2973 - accuracy: 0.8717 - val_loss: 0.3140 - val_accuracy: 0.8750\n",
      "Epoch 6/10\n",
      "782/782 [==============================] - 60s 77ms/step - loss: 0.2821 - accuracy: 0.8796 - val_loss: 0.3172 - val_accuracy: 0.8875\n",
      "Epoch 7/10\n",
      "782/782 [==============================] - 60s 76ms/step - loss: 0.2634 - accuracy: 0.8884 - val_loss: 0.2680 - val_accuracy: 0.9000\n",
      "Epoch 8/10\n",
      "782/782 [==============================] - 60s 76ms/step - loss: 0.2462 - accuracy: 0.8956 - val_loss: 0.2529 - val_accuracy: 0.9062\n",
      "Epoch 9/10\n",
      "782/782 [==============================] - 59s 76ms/step - loss: 0.2285 - accuracy: 0.9056 - val_loss: 0.2941 - val_accuracy: 0.8875\n",
      "Epoch 10/10\n",
      "782/782 [==============================] - 59s 75ms/step - loss: 0.2219 - accuracy: 0.9077 - val_loss: 0.3572 - val_accuracy: 0.8281\n"
     ]
    }
   ],
   "source": [
    "# Define embedding size\n",
    "EMBEDDING_DIM = 100\n",
    "\n",
    "# Instantiate model\n",
    "model = get_bilstm_model()\n",
    "\n",
    "# Compile model\n",
    "model.compile(loss=tf.keras.losses.BinaryCrossentropy(from_logits=True), optimizer=\"adam\", metrics=[\"accuracy\"])\n",
    "\n",
    "# Train and validation\n",
    "history = model.fit(\n",
    "    train_dataset,\n",
    "    epochs=10,\n",
    "    validation_data=test_dataset,\n",
    "    validation_steps=10,\n",
    "    callbacks=[tf.keras.callbacks.EarlyStopping(monitor=\"val_loss\", patience=2)]\n",
    ")"
   ]
  },
  {
   "cell_type": "code",
   "execution_count": 9,
   "metadata": {},
   "outputs": [
    {
     "name": "stdout",
     "output_type": "stream",
     "text": [
      "dict_keys(['loss', 'accuracy', 'val_loss', 'val_accuracy'])\n"
     ]
    },
    {
     "data": {
      "image/png": "[encoded data removed]",
      "text/plain": [
       "<Figure size 432x288 with 1 Axes>"
      ]
     },
     "metadata": {
      "needs_background": "light"
     },
     "output_type": "display_data"
    },
    {
     "data": {
      "image/png": "[encoded data removed]",
      "text/plain": [
       "<Figure size 432x288 with 1 Axes>"
      ]
     },
     "metadata": {
      "needs_background": "light"
     },
     "output_type": "display_data"
    }
   ],
   "source": [
    "print(history.history.keys())\n",
    "\n",
    "# Summarize history for accuracy\n",
    "plt.plot(history.history[\"accuracy\"])\n",
    "plt.plot(history.history[\"val_accuracy\"])\n",
    "plt.title(\"model accuracy\")\n",
    "plt.ylabel(\"accuracy\")\n",
    "plt.xlabel(\"epoch\")\n",
    "plt.legend([\"train\", \"val\"], loc=\"upper left\")\n",
    "plt.show()\n",
    "\n",
    "# Summarize history for loss\n",
    "plt.plot(history.history[\"loss\"])\n",
    "plt.plot(history.history[\"val_loss\"])\n",
    "plt.title(\"model loss\")\n",
    "plt.ylabel(\"loss\")\n",
    "plt.xlabel(\"epoch\")\n",
    "plt.legend([\"train\", \"val\"], loc=\"upper left\")\n",
    "plt.show()"
   ]
  },
  {
   "cell_type": "code",
   "execution_count": 10,
   "metadata": {},
   "outputs": [
    {
     "name": "stdout",
     "output_type": "stream",
     "text": [
      "782/782 [==============================] - 24s 31ms/step - loss: 0.3080 - accuracy: 0.8597\n",
      "Test Loss: 0.30800214409828186\n",
      "Test Accuracy: 0.85971999168396\n"
     ]
    }
   ],
   "source": [
    "# Evaluate model on test dataset\n",
    "test_loss, test_acc = model.evaluate(test_dataset)\n",
    "\n",
    "print(\"Test Loss:\", test_loss)\n",
    "print(\"Test Accuracy:\", test_acc)"
   ]
  },
  {
   "cell_type": "markdown",
   "metadata": {},
   "source": [
    "# Model Application"
   ]
  },
  {
   "cell_type": "code",
   "execution_count": 11,
   "metadata": {},
   "outputs": [
    {
     "name": "stdout",
     "output_type": "stream",
     "text": [
      "Review: The movie was not good. The animation and the graphics were terrible. I would not recommend this movie.\n",
      "Lable: [[-2.8515556]] Negative\n"
     ]
    }
   ],
   "source": [
    "# Predict on a sample text\n",
    "sample_text = (\"The movie was not good. The animation and the graphics were terrible. I would not recommend this movie.\")\n",
    "\n",
    "predictions = model.predict(np.array([sample_text]))\n",
    "label_predicted = \"Positive\" if predictions[0][0] >= 0.0 else \"Negative\"\n",
    "\n",
    "print(\"Review:\", sample_text)\n",
    "print(\"Lable:\", predictions, label_predicted)"
   ]
  },
  {
   "cell_type": "code",
   "execution_count": null,
   "metadata": {},
   "outputs": [],
   "source": []
  }
 ],
 "metadata": {
  "interpreter": {
   "hash": "eb7fe9f94f668b8d355a255aa6f8baa5e434a7a32b180dc0c53fa918976ace15"
  },
  "kernelspec": {
   "display_name": "Python [conda env:dl-env]",
   "language": "python",
   "name": "conda-env-dl-env-py"
  },
  "language_info": {
   "codemirror_mode": {
    "name": "ipython",
    "version": 3
   },
   "file_extension": ".py",
   "mimetype": "text/x-python",
   "name": "python",
   "nbconvert_exporter": "python",
   "pygments_lexer": "ipython3",
   "version": "3.8.8"
  },
  "toc": {
   "base_numbering": 1,
   "nav_menu": {},
   "number_sections": true,
   "sideBar": true,
   "skip_h1_title": false,
   "title_cell": "Table of Contents",
   "title_sidebar": "Contents",
   "toc_cell": false,
   "toc_position": {},
   "toc_section_display": true,
   "toc_window_display": false
  }
 },
 "nbformat": 4,
 "nbformat_minor": 5
}
