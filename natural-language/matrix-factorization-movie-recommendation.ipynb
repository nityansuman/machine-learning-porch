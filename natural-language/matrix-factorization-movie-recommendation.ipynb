{
 "cells": [
  {
   "cell_type": "markdown",
   "metadata": {},
   "source": [
    "# Matrix Factorization Recommendation System"
   ]
  },
  {
   "cell_type": "code",
   "execution_count": 1,
   "metadata": {},
   "outputs": [
    {
     "data": {
      "text/plain": [
       "'2.7.0'"
      ]
     },
     "execution_count": 1,
     "metadata": {},
     "output_type": "execute_result"
    }
   ],
   "source": [
    "# Import packages\n",
    "import os\n",
    "import numpy as np\n",
    "import tensorflow as tf\n",
    "import tensorflow_datasets as tfds\n",
    "import tensorflow_recommenders as tfrs\n",
    "\n",
    "from typing import Dict, Text\n",
    "\n",
    "tf.__version__"
   ]
  },
  {
   "cell_type": "markdown",
   "metadata": {},
   "source": [
    "## Load data"
   ]
  },
  {
   "cell_type": "code",
   "execution_count": 2,
   "metadata": {},
   "outputs": [
    {
     "data": {
      "text/plain": [
       "['movielens', 'datasets', 'tiny_shakespeare', 'imdb_reviews', 'downloads']"
      ]
     },
     "execution_count": 2,
     "metadata": {},
     "output_type": "execute_result"
    }
   ],
   "source": [
    "os.listdir(\"/database/tensorflow-datasets/\")"
   ]
  },
  {
   "cell_type": "code",
   "execution_count": 3,
   "metadata": {},
   "outputs": [
    {
     "name": "stderr",
     "output_type": "stream",
     "text": [
      "2021-12-06 17:21:37.372985: I tensorflow/stream_executor/cuda/cuda_gpu_executor.cc:939] successful NUMA node read from SysFS had negative value (-1), but there must be at least one NUMA node, so returning NUMA node zero\n",
      "2021-12-06 17:21:37.377627: I tensorflow/stream_executor/cuda/cuda_gpu_executor.cc:939] successful NUMA node read from SysFS had negative value (-1), but there must be at least one NUMA node, so returning NUMA node zero\n",
      "2021-12-06 17:21:37.378099: I tensorflow/stream_executor/cuda/cuda_gpu_executor.cc:939] successful NUMA node read from SysFS had negative value (-1), but there must be at least one NUMA node, so returning NUMA node zero\n",
      "2021-12-06 17:21:37.378805: I tensorflow/core/platform/cpu_feature_guard.cc:151] This TensorFlow binary is optimized with oneAPI Deep Neural Network Library (oneDNN) to use the following CPU instructions in performance-critical operations:  AVX2 FMA\n",
      "To enable them in other operations, rebuild TensorFlow with the appropriate compiler flags.\n",
      "2021-12-06 17:21:37.379531: I tensorflow/stream_executor/cuda/cuda_gpu_executor.cc:939] successful NUMA node read from SysFS had negative value (-1), but there must be at least one NUMA node, so returning NUMA node zero\n",
      "2021-12-06 17:21:37.379952: I tensorflow/stream_executor/cuda/cuda_gpu_executor.cc:939] successful NUMA node read from SysFS had negative value (-1), but there must be at least one NUMA node, so returning NUMA node zero\n",
      "2021-12-06 17:21:37.380354: I tensorflow/stream_executor/cuda/cuda_gpu_executor.cc:939] successful NUMA node read from SysFS had negative value (-1), but there must be at least one NUMA node, so returning NUMA node zero\n",
      "2021-12-06 17:21:37.811844: I tensorflow/stream_executor/cuda/cuda_gpu_executor.cc:939] successful NUMA node read from SysFS had negative value (-1), but there must be at least one NUMA node, so returning NUMA node zero\n",
      "2021-12-06 17:21:37.812349: I tensorflow/stream_executor/cuda/cuda_gpu_executor.cc:939] successful NUMA node read from SysFS had negative value (-1), but there must be at least one NUMA node, so returning NUMA node zero\n",
      "2021-12-06 17:21:37.812752: I tensorflow/stream_executor/cuda/cuda_gpu_executor.cc:939] successful NUMA node read from SysFS had negative value (-1), but there must be at least one NUMA node, so returning NUMA node zero\n",
      "2021-12-06 17:21:37.813145: I tensorflow/core/common_runtime/gpu/gpu_device.cc:1525] Created device /job:localhost/replica:0/task:0/device:GPU:0 with 9134 MB memory:  -> device: 0, name: NVIDIA GeForce RTX 2080 Ti, pci bus id: 0000:2d:00.0, compute capability: 7.5\n"
     ]
    }
   ],
   "source": [
    "# Load data\n",
    "ratings = tfds.load(\"movielens/100k-ratings\", split=\"train\", data_dir=\"/database/tensorflow-datasets/\")\n",
    "movies = tfds.load(\"movielens/100k-movies\", split=\"train\", data_dir=\"/database/tensorflow-datasets/\")\n",
    "\n",
    "# Select basic features\n",
    "ratings = ratings.map(lambda x: {\n",
    "\t\"movie_title\": x[\"movie_title\"],\n",
    "\t\"user_id\": x[\"user_id\"]\n",
    "})\n",
    "movies = movies.map(lambda x: x[\"movie_title\"])"
   ]
  },
  {
   "cell_type": "markdown",
   "metadata": {},
   "source": [
    "## Build Vocabulary"
   ]
  },
  {
   "cell_type": "code",
   "execution_count": 4,
   "metadata": {},
   "outputs": [],
   "source": [
    "uid_vocabulary = tf.keras.layers.StringLookup(mask_token=None)\n",
    "uid_vocabulary.adapt(ratings.map(lambda x: x[\"user_id\"]))"
   ]
  },
  {
   "cell_type": "code",
   "execution_count": 5,
   "metadata": {},
   "outputs": [],
   "source": [
    "title_vocabulary = tf.keras.layers.StringLookup(mask_token=None)\n",
    "title_vocabulary.adapt(movies)"
   ]
  },
  {
   "cell_type": "markdown",
   "metadata": {},
   "source": [
    "## Define model"
   ]
  },
  {
   "cell_type": "code",
   "execution_count": 6,
   "metadata": {},
   "outputs": [],
   "source": [
    "# Define recommender\n",
    "class MovieRecommender(tfrs.Model):\n",
    "\tdef __init__(self, user_model: tf.keras.Model, movie_model: tf.keras.Model, task: tfrs.tasks.Retrieval) -> None:\n",
    "\t\tsuper().__init__()\n",
    "\t\tself.user_model = user_model\n",
    "\t\tself.movie_model = movie_model\n",
    "\t\tself.task = task\n",
    "\t\n",
    "\tdef compute_loss(self, features: Dict[Text, tf.Tensor], training=False) -> tf.Tensor:\n",
    "\t\tuser_embedding = self.user_model(features[\"user_id\"])\n",
    "\t\tmovie_embedding = self.movie_model(features[\"movie_title\"])\n",
    "\t\treturn self.task(user_embedding, movie_embedding)"
   ]
  },
  {
   "cell_type": "code",
   "execution_count": 7,
   "metadata": {},
   "outputs": [],
   "source": [
    "# Define user model\n",
    "user_model = tf.keras.Sequential([\n",
    "\tuid_vocabulary,\n",
    "\ttf.keras.layers.Embedding(uid_vocabulary.vocabulary_size(), 100)\n",
    "])\n",
    "\n",
    "# Define movie model\n",
    "movie_model = tf.keras.Sequential([\n",
    "\ttitle_vocabulary,\n",
    "\ttf.keras.layers.Embedding(title_vocabulary.vocabulary_size(), 100)\n",
    "])"
   ]
  },
  {
   "cell_type": "code",
   "execution_count": 8,
   "metadata": {},
   "outputs": [],
   "source": [
    "# Define recommendation ovbjective task\n",
    "task  = tfrs.tasks.Retrieval(metrics=tfrs.metrics.FactorizedTopK(\n",
    "\tmovies.batch(128).map(movie_model)\n",
    "))"
   ]
  },
  {
   "cell_type": "markdown",
   "metadata": {},
   "source": [
    "## Learn and evaluate"
   ]
  },
  {
   "cell_type": "code",
   "execution_count": 9,
   "metadata": {},
   "outputs": [],
   "source": [
    "# Create a retrieval model\n",
    "model = MovieRecommender(user_model, movie_model, task)\n",
    "\n",
    "# Compile model\n",
    "model.compile(optimizer=tf.keras.optimizers.Adagrad(0.5))"
   ]
  },
  {
   "cell_type": "code",
   "execution_count": 10,
   "metadata": {},
   "outputs": [
    {
     "name": "stdout",
     "output_type": "stream",
     "text": [
      "Epoch 1/15\n",
      "25/25 [==============================] - 4s 136ms/step - factorized_top_k/top_1_categorical_accuracy: 1.1000e-04 - factorized_top_k/top_5_categorical_accuracy: 0.0012 - factorized_top_k/top_10_categorical_accuracy: 0.0036 - factorized_top_k/top_50_categorical_accuracy: 0.0369 - factorized_top_k/top_100_categorical_accuracy: 0.0881 - loss: 34209.0214 - regularization_loss: 0.0000e+00 - total_loss: 34209.0214\n",
      "Epoch 2/15\n",
      "25/25 [==============================] - 3s 134ms/step - factorized_top_k/top_1_categorical_accuracy: 1.0000e-04 - factorized_top_k/top_5_categorical_accuracy: 0.0037 - factorized_top_k/top_10_categorical_accuracy: 0.0122 - factorized_top_k/top_50_categorical_accuracy: 0.1002 - factorized_top_k/top_100_categorical_accuracy: 0.2047 - loss: 31178.6149 - regularization_loss: 0.0000e+00 - total_loss: 31178.6149\n",
      "Epoch 3/15\n",
      "25/25 [==============================] - 3s 135ms/step - factorized_top_k/top_1_categorical_accuracy: 4.1000e-04 - factorized_top_k/top_5_categorical_accuracy: 0.0064 - factorized_top_k/top_10_categorical_accuracy: 0.0192 - factorized_top_k/top_50_categorical_accuracy: 0.1460 - factorized_top_k/top_100_categorical_accuracy: 0.2759 - loss: 30511.0636 - regularization_loss: 0.0000e+00 - total_loss: 30511.0636\n",
      "Epoch 4/15\n",
      "25/25 [==============================] - 4s 141ms/step - factorized_top_k/top_1_categorical_accuracy: 2.9000e-04 - factorized_top_k/top_5_categorical_accuracy: 0.0077 - factorized_top_k/top_10_categorical_accuracy: 0.0240 - factorized_top_k/top_50_categorical_accuracy: 0.1825 - factorized_top_k/top_100_categorical_accuracy: 0.3292 - loss: 30141.3159 - regularization_loss: 0.0000e+00 - total_loss: 30141.3159\n",
      "Epoch 5/15\n",
      "25/25 [==============================] - 3s 136ms/step - factorized_top_k/top_1_categorical_accuracy: 3.3000e-04 - factorized_top_k/top_5_categorical_accuracy: 0.0081 - factorized_top_k/top_10_categorical_accuracy: 0.0257 - factorized_top_k/top_50_categorical_accuracy: 0.2039 - factorized_top_k/top_100_categorical_accuracy: 0.3620 - loss: 29866.6429 - regularization_loss: 0.0000e+00 - total_loss: 29866.6429\n",
      "Epoch 6/15\n",
      "25/25 [==============================] - 3s 135ms/step - factorized_top_k/top_1_categorical_accuracy: 2.9000e-04 - factorized_top_k/top_5_categorical_accuracy: 0.0086 - factorized_top_k/top_10_categorical_accuracy: 0.0268 - factorized_top_k/top_50_categorical_accuracy: 0.2201 - factorized_top_k/top_100_categorical_accuracy: 0.3887 - loss: 29646.2575 - regularization_loss: 0.0000e+00 - total_loss: 29646.2575\n",
      "Epoch 7/15\n",
      "25/25 [==============================] - 3s 135ms/step - factorized_top_k/top_1_categorical_accuracy: 3.8000e-04 - factorized_top_k/top_5_categorical_accuracy: 0.0089 - factorized_top_k/top_10_categorical_accuracy: 0.0278 - factorized_top_k/top_50_categorical_accuracy: 0.2317 - factorized_top_k/top_100_categorical_accuracy: 0.4089 - loss: 29463.4546 - regularization_loss: 0.0000e+00 - total_loss: 29463.4546\n",
      "Epoch 8/15\n",
      "25/25 [==============================] - 3s 135ms/step - factorized_top_k/top_1_categorical_accuracy: 2.2000e-04 - factorized_top_k/top_5_categorical_accuracy: 0.0091 - factorized_top_k/top_10_categorical_accuracy: 0.0285 - factorized_top_k/top_50_categorical_accuracy: 0.2423 - factorized_top_k/top_100_categorical_accuracy: 0.4238 - loss: 29310.7982 - regularization_loss: 0.0000e+00 - total_loss: 29310.7982\n",
      "Epoch 9/15\n",
      "25/25 [==============================] - 3s 135ms/step - factorized_top_k/top_1_categorical_accuracy: 4.4000e-04 - factorized_top_k/top_5_categorical_accuracy: 0.0095 - factorized_top_k/top_10_categorical_accuracy: 0.0294 - factorized_top_k/top_50_categorical_accuracy: 0.2492 - factorized_top_k/top_100_categorical_accuracy: 0.4360 - loss: 29175.1151 - regularization_loss: 0.0000e+00 - total_loss: 29175.1151\n",
      "Epoch 10/15\n",
      "25/25 [==============================] - 3s 136ms/step - factorized_top_k/top_1_categorical_accuracy: 3.6000e-04 - factorized_top_k/top_5_categorical_accuracy: 0.0095 - factorized_top_k/top_10_categorical_accuracy: 0.0296 - factorized_top_k/top_50_categorical_accuracy: 0.2562 - factorized_top_k/top_100_categorical_accuracy: 0.4464 - loss: 29059.0610 - regularization_loss: 0.0000e+00 - total_loss: 29059.0610\n",
      "Epoch 11/15\n",
      "25/25 [==============================] - 3s 133ms/step - factorized_top_k/top_1_categorical_accuracy: 3.4000e-04 - factorized_top_k/top_5_categorical_accuracy: 0.0101 - factorized_top_k/top_10_categorical_accuracy: 0.0301 - factorized_top_k/top_50_categorical_accuracy: 0.2623 - factorized_top_k/top_100_categorical_accuracy: 0.4555 - loss: 28955.1958 - regularization_loss: 0.0000e+00 - total_loss: 28955.1958\n",
      "Epoch 12/15\n",
      "25/25 [==============================] - 3s 134ms/step - factorized_top_k/top_1_categorical_accuracy: 3.4000e-04 - factorized_top_k/top_5_categorical_accuracy: 0.0101 - factorized_top_k/top_10_categorical_accuracy: 0.0308 - factorized_top_k/top_50_categorical_accuracy: 0.2671 - factorized_top_k/top_100_categorical_accuracy: 0.4631 - loss: 28864.1463 - regularization_loss: 0.0000e+00 - total_loss: 28864.1463\n",
      "Epoch 13/15\n",
      "25/25 [==============================] - 3s 135ms/step - factorized_top_k/top_1_categorical_accuracy: 3.5000e-04 - factorized_top_k/top_5_categorical_accuracy: 0.0105 - factorized_top_k/top_10_categorical_accuracy: 0.0313 - factorized_top_k/top_50_categorical_accuracy: 0.2714 - factorized_top_k/top_100_categorical_accuracy: 0.4703 - loss: 28781.2072 - regularization_loss: 0.0000e+00 - total_loss: 28781.2072\n",
      "Epoch 14/15\n",
      "25/25 [==============================] - 3s 135ms/step - factorized_top_k/top_1_categorical_accuracy: 3.3000e-04 - factorized_top_k/top_5_categorical_accuracy: 0.0109 - factorized_top_k/top_10_categorical_accuracy: 0.0320 - factorized_top_k/top_50_categorical_accuracy: 0.2751 - factorized_top_k/top_100_categorical_accuracy: 0.4763 - loss: 28705.7814 - regularization_loss: 0.0000e+00 - total_loss: 28705.7814\n",
      "Epoch 15/15\n",
      "25/25 [==============================] - 3s 134ms/step - factorized_top_k/top_1_categorical_accuracy: 2.7000e-04 - factorized_top_k/top_5_categorical_accuracy: 0.0112 - factorized_top_k/top_10_categorical_accuracy: 0.0323 - factorized_top_k/top_50_categorical_accuracy: 0.2781 - factorized_top_k/top_100_categorical_accuracy: 0.4818 - loss: 28637.4176 - regularization_loss: 0.0000e+00 - total_loss: 28637.4176\n"
     ]
    },
    {
     "data": {
      "text/plain": [
       "<keras.callbacks.History at 0x7f622068b550>"
      ]
     },
     "execution_count": 10,
     "metadata": {},
     "output_type": "execute_result"
    }
   ],
   "source": [
    "model.fit(ratings.batch(4096), epochs=15)"
   ]
  },
  {
   "cell_type": "markdown",
   "metadata": {},
   "source": [
    "## Brute-force retrieval"
   ]
  },
  {
   "cell_type": "code",
   "execution_count": 11,
   "metadata": {},
   "outputs": [
    {
     "data": {
      "text/plain": [
       "<tensorflow_recommenders.layers.factorized_top_k.BruteForce at 0x7f622032efa0>"
      ]
     },
     "execution_count": 11,
     "metadata": {},
     "output_type": "execute_result"
    }
   ],
   "source": [
    "# Generate index\n",
    "index = tfrs.layers.factorized_top_k.BruteForce(model.user_model)\n",
    "index.index_from_dataset(movies.batch(100).map(lambda title: (title, model.movie_model(title))))"
   ]
  },
  {
   "cell_type": "code",
   "execution_count": 12,
   "metadata": {},
   "outputs": [
    {
     "name": "stdout",
     "output_type": "stream",
     "text": [
      "Top 5 recommendations: tf.Tensor(\n",
      "[b'Children of the Corn: The Gathering (1996)' b'Batman & Robin (1997)'\n",
      " b\"Fathers' Day (1997)\" b'That Old Feeling (1997)' b'Girl 6 (1996)'], shape=(5,), dtype=string)\n"
     ]
    }
   ],
   "source": [
    "# Get some recommendations\n",
    "i, titles = index(np.array([\"939\"]))\n",
    "print(\"Top 5 recommendations:\", titles[0, :5])"
   ]
  },
  {
   "cell_type": "code",
   "execution_count": null,
   "metadata": {},
   "outputs": [],
   "source": []
  }
 ],
 "metadata": {
  "interpreter": {
   "hash": "31f2aee4e71d21fbe5cf8b01ff0e069b9275f58929596ceb00d14d90e3e16cd6"
  },
  "kernelspec": {
   "display_name": "Python 3.8.10 64-bit",
   "language": "python",
   "name": "python3"
  },
  "language_info": {
   "codemirror_mode": {
    "name": "ipython",
    "version": 3
   },
   "file_extension": ".py",
   "mimetype": "text/x-python",
   "name": "python",
   "nbconvert_exporter": "python",
   "pygments_lexer": "ipython3",
   "version": "3.8.10"
  },
  "orig_nbformat": 4
 },
 "nbformat": 4,
 "nbformat_minor": 2
}
