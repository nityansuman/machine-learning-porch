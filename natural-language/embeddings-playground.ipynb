{
 "cells": [
  {
   "cell_type": "markdown",
   "metadata": {},
   "source": [
    "# Setup"
   ]
  },
  {
   "cell_type": "code",
   "execution_count": 1,
   "metadata": {},
   "outputs": [
    {
     "data": {
      "text/plain": [
       "'2.3.0'"
      ]
     },
     "execution_count": 1,
     "metadata": {},
     "output_type": "execute_result"
    }
   ],
   "source": [
    "# Import packages\n",
    "import os\n",
    "import re\n",
    "import string\n",
    "import numpy as np\n",
    "import matplotlib.pyplot as plt\n",
    "\n",
    "import tensorflow as tf\n",
    "import tensorflow_datasets as tfds\n",
    "from tensorflow.keras import layers\n",
    "from tensorflow.keras.layers.experimental.preprocessing import TextVectorization\n",
    "\n",
    "tf.__version__ # 2.x"
   ]
  },
  {
   "cell_type": "markdown",
   "metadata": {},
   "source": [
    "# Word embeddings\n",
    "\n",
    "There are two ways to obtain word embeddings:\n",
    "\n",
    "* Learn word embeddings jointly with the main task you care about (e.g. document classification or sentiment prediction).\n",
    "In this setup, you would start with random word vectors, then learn your word vectors in the same way that you learn the weights of a neural network.\n",
    "* Load into your model word embeddings that were pre-computed using a different machine learning task than the one you are trying to solve.\n",
    "These are called \"pre-trained word embeddings\"."
   ]
  },
  {
   "cell_type": "markdown",
   "metadata": {},
   "source": [
    "## Learning word embeddings with the Embedding layer\n",
    "\n",
    "The `Embedding` layer is best understood as a dictionary mapping integer indices (which stand for specific words) to dense vectors. It takes \n",
    "as input integers, it looks up these integers into an internal dictionary, and it returns the associated vectors. It's effectively a dictionary lookup."
   ]
  },
  {
   "cell_type": "markdown",
   "metadata": {},
   "source": [
    "### Load dataset"
   ]
  },
  {
   "cell_type": "code",
   "execution_count": 2,
   "metadata": {},
   "outputs": [],
   "source": [
    "def load_data(name):\n",
    "    dataset, info = tfds.load(name=name, with_info=True, as_supervised=True)\n",
    "    train_dataset, test_dataset = dataset[\"train\"], dataset[\"test\"]\n",
    "    return train_dataset, test_dataset\n",
    "\n",
    "train_dataset, test_dataset = load_data(name=\"imdb_reviews\")"
   ]
  },
  {
   "cell_type": "code",
   "execution_count": 3,
   "metadata": {
    "ExecuteTime": {
     "end_time": "2021-02-08T00:46:14.286182Z",
     "start_time": "2021-02-08T00:46:14.241416Z"
    }
   },
   "outputs": [
    {
     "name": "stdout",
     "output_type": "stream",
     "text": [
      "Review; tf.Tensor(b\"This was an absolutely terrible movie. Don't be lured in by Christopher Walken or Michael Ironside. Both are great actors, but this must simply be their worst role in history. Even their great acting could not redeem this movie's ridiculous storyline. This movie is an early nineties US propaganda piece. The most pathetic scenes were those when the Columbian rebels were making their cases for revolutions. Maria Conchita Alonso appeared phony, and her pseudo-love affair with Walken was nothing but a pathetic emotional plug in a movie that was devoid of any real meaning. I am disappointed that there are movies like this, ruining actor's like Christopher Walken's good name. I could barely sit through it.\", shape=(), dtype=string)\n",
      "Label: tf.Tensor(0, shape=(), dtype=int64)\n"
     ]
    }
   ],
   "source": [
    "for review, label in train_dataset.take(1):\n",
    "    print(\"Review;\", review)\n",
    "    print(\"Label:\", label)"
   ]
  },
  {
   "cell_type": "code",
   "execution_count": 4,
   "metadata": {
    "ExecuteTime": {
     "end_time": "2021-02-08T00:46:14.315684Z",
     "start_time": "2021-02-08T00:46:14.287586Z"
    }
   },
   "outputs": [
    {
     "name": "stdout",
     "output_type": "stream",
     "text": [
      "Review; tf.Tensor(b\"There are films that make careers. For George Romero, it was NIGHT OF THE LIVING DEAD; for Kevin Smith, CLERKS; for Robert Rodriguez, EL MARIACHI. Add to that list Onur Tukel's absolutely amazing DING-A-LING-LESS. Flawless film-making, and as assured and as professional as any of the aforementioned movies. I haven't laughed this hard since I saw THE FULL MONTY. (And, even then, I don't think I laughed quite this hard... So to speak.) Tukel's talent is considerable: DING-A-LING-LESS is so chock full of double entendres that one would have to sit down with a copy of this script and do a line-by-line examination of it to fully appreciate the, uh, breadth and width of it. Every shot is beautifully composed (a clear sign of a sure-handed director), and the performances all around are solid (there's none of the over-the-top scenery chewing one might've expected from a film like this). DING-A-LING-LESS is a film whose time has come.\", shape=(), dtype=string)\n",
      "Label: tf.Tensor(1, shape=(), dtype=int64)\n"
     ]
    }
   ],
   "source": [
    "for review, label in test_dataset.take(1):\n",
    "    print(\"Review;\", review)\n",
    "    print(\"Label:\", label)"
   ]
  },
  {
   "cell_type": "markdown",
   "metadata": {},
   "source": [
    "### Create optimized dataset"
   ]
  },
  {
   "cell_type": "code",
   "execution_count": 5,
   "metadata": {
    "ExecuteTime": {
     "end_time": "2021-02-08T00:46:14.321505Z",
     "start_time": "2021-02-08T00:46:14.317324Z"
    }
   },
   "outputs": [],
   "source": [
    "BUFFER_SIZE = 5000\n",
    "BUFFER_BS = 64\n",
    "\n",
    "train_dataset = train_dataset.shuffle(BUFFER_SIZE).batch(BUFFER_BS).prefetch(tf.data.experimental.AUTOTUNE)\n",
    "test_dataset = test_dataset.shuffle(BUFFER_SIZE).batch(BUFFER_BS).prefetch(tf.data.experimental.AUTOTUNE)"
   ]
  },
  {
   "cell_type": "code",
   "execution_count": 6,
   "metadata": {},
   "outputs": [
    {
     "name": "stdout",
     "output_type": "stream",
     "text": [
      "tf.Tensor(b\"Jerry spies Tom listening to a creepy story on the radio and seizes the opportunity to scare his nemesis.<br /><br />I didn't find this particular episode that funny: the humour seemed rather constrained and the whole set up was kinda lame (Jerry is essentially the 'bad guy' in this one, tormenting poor Tom for no particular reason).<br /><br />There is the occasional flash of inspiration (such as Tom's literal 'heart in mouth' experience, and the moment when his nines lives are sucked out of his body), but, on the whole, this effort lacks the frenetic pacing, excellent animation and sheer wit of most of T&J's other cartoons.\", shape=(), dtype=string)\n"
     ]
    }
   ],
   "source": [
    "for element in train_dataset:\n",
    "    print(element[0][0])\n",
    "    break"
   ]
  },
  {
   "cell_type": "markdown",
   "metadata": {},
   "source": [
    "### Data preprocessing"
   ]
  },
  {
   "cell_type": "code",
   "execution_count": 7,
   "metadata": {},
   "outputs": [],
   "source": [
    "def custom_standardization(input_data):\n",
    "    lowercase = tf.strings.lower(input_data)\n",
    "    stripped_html = tf.strings.regex_replace(lowercase, \"<br />\", \" \")\n",
    "    return tf.strings.regex_replace(\n",
    "        stripped_html, \"[%s]\" % re.escape(string.punctuation), \"\"\n",
    "    )"
   ]
  },
  {
   "cell_type": "code",
   "execution_count": 8,
   "metadata": {
    "ExecuteTime": {
     "end_time": "2021-02-08T00:46:18.053683Z",
     "start_time": "2021-02-08T00:46:14.326716Z"
    }
   },
   "outputs": [],
   "source": [
    "VOCAB_SIZE = 10000\n",
    "EMBEDDING_DIM = 100\n",
    "MAX_SEQUENCE_LENGTH = 256\n",
    "\n",
    "encoder = TextVectorization(\n",
    "    max_tokens = VOCAB_SIZE,\n",
    "    standardize = custom_standardization,\n",
    "    split = \"whitespace\",\n",
    "    output_mode = \"int\",\n",
    "    output_sequence_length = MAX_SEQUENCE_LENGTH\n",
    ")"
   ]
  },
  {
   "cell_type": "code",
   "execution_count": 9,
   "metadata": {},
   "outputs": [],
   "source": [
    "# Adapt encoder on training dataset\n",
    "encoder.adapt(train_dataset.map(lambda text, label: text))\n",
    "\n",
    "def vectorize_dataset(text, label):\n",
    "    text = tf.expand_dims(text, -1)\n",
    "    return encoder(text), label\n",
    "\n",
    "# Vectorize the datasets\n",
    "train_dataset = train_dataset.map(vectorize_dataset)\n",
    "test_dataset = test_dataset.map(vectorize_dataset)"
   ]
  },
  {
   "cell_type": "code",
   "execution_count": 10,
   "metadata": {},
   "outputs": [
    {
     "name": "stdout",
     "output_type": "stream",
     "text": [
      "Review; tf.Tensor(\n",
      "[[  47   65  206 ...    0    0    0]\n",
      " [   2 1089  729 ...   30    2  203]\n",
      " [   4    1   63 ...    4 5543   47]\n",
      " ...\n",
      " [  11   19   13 ...   90  335   18]\n",
      " [  10  209    2 ... 4158   32    2]\n",
      " [  11   17    7 ...    0    0    0]], shape=(64, 256), dtype=int64)\n",
      "Label: tf.Tensor(\n",
      "[0 1 1 1 0 1 1 1 0 0 1 0 1 0 0 0 1 1 0 0 0 0 0 1 1 0 1 1 0 1 0 0 1 1 1 0 0\n",
      " 1 0 1 1 1 0 0 1 1 0 0 0 1 0 1 1 0 0 1 0 1 1 0 0 0 0 1], shape=(64,), dtype=int64)\n"
     ]
    }
   ],
   "source": [
    "for review, label in train_dataset.take(1):\n",
    "    print(\"Review;\", review)\n",
    "    print(\"Label:\", label)"
   ]
  },
  {
   "cell_type": "code",
   "execution_count": 11,
   "metadata": {},
   "outputs": [
    {
     "name": "stdout",
     "output_type": "stream",
     "text": [
      "Review; tf.Tensor(\n",
      "[[ 11  43   6 ...   0   0   0]\n",
      " [ 73  10 209 ...   0   0   0]\n",
      " [149   4 331 ...   0   0   0]\n",
      " ...\n",
      " [  4 365   5 ...   0   0   0]\n",
      " [ 10 209  11 ...   0   0   0]\n",
      " [  2 112 449 ...   0   0   0]], shape=(64, 256), dtype=int64)\n",
      "Label: tf.Tensor(\n",
      "[1 0 0 1 1 0 0 0 0 0 1 1 0 0 0 1 1 0 0 0 0 0 1 0 0 0 0 1 1 1 0 1 0 1 0 1 0\n",
      " 1 1 1 0 1 0 0 1 0 1 0 0 1 1 1 1 1 1 1 1 0 0 1 1 1 0 0], shape=(64,), dtype=int64)\n"
     ]
    }
   ],
   "source": [
    "for review, label in test_dataset.take(1):\n",
    "    print(\"Review;\", review)\n",
    "    print(\"Label:\", label)"
   ]
  },
  {
   "cell_type": "markdown",
   "metadata": {},
   "source": [
    "### Modelling"
   ]
  },
  {
   "cell_type": "code",
   "execution_count": 12,
   "metadata": {},
   "outputs": [],
   "source": [
    "def sequential_model():\n",
    "    model = tf.keras.Sequential()\n",
    "\n",
    "    # Embedding layer\n",
    "    model.add(layers.Embedding(VOCAB_SIZE, EMBEDDING_DIM, input_length=MAX_SEQUENCE_LENGTH))\n",
    "\n",
    "    # Normalization and dropout regularizer\n",
    "    model.add(layers.BatchNormalization())\n",
    "    model.add(layers.Dropout(0.3))\n",
    "    \n",
    "    # Sequence processing layer\n",
    "    model.add(layers.Bidirectional(layers.LSTM(128, return_sequences=True)))\n",
    "    model.add(layers.Bidirectional(layers.LSTM(128)))\n",
    "\n",
    "    # Dense layers with dropout regulaarizer\n",
    "    model.add(layers.Dense(64, activation=\"relu\"))\n",
    "    model.add(layers.Dropout(0.3))\n",
    "    model.add(layers.Dense(32, activation=\"relu\"))\n",
    "\n",
    "    # We add the classifier on top\n",
    "    model.add(layers.Dense(1, activation=\"sigmoid\"))\n",
    "\n",
    "    # Compile the model\n",
    "    model.compile(optimizer=\"rmsprop\", loss=\"binary_crossentropy\", metrics=[\"accuracy\"])\n",
    "    \n",
    "    return model"
   ]
  },
  {
   "cell_type": "code",
   "execution_count": 13,
   "metadata": {
    "scrolled": true
   },
   "outputs": [
    {
     "name": "stdout",
     "output_type": "stream",
     "text": [
      "Epoch 1/10\n",
      "391/391 [==============================] - 29s 74ms/step - loss: 0.5503 - accuracy: 0.7186 - val_loss: 0.4971 - val_accuracy: 0.7844\n",
      "Epoch 2/10\n",
      "391/391 [==============================] - 28s 70ms/step - loss: 0.3510 - accuracy: 0.8534 - val_loss: 0.3557 - val_accuracy: 0.8561\n",
      "Epoch 3/10\n",
      "391/391 [==============================] - 28s 71ms/step - loss: 0.2778 - accuracy: 0.8901 - val_loss: 0.3339 - val_accuracy: 0.8731\n",
      "Epoch 4/10\n",
      "391/391 [==============================] - 28s 73ms/step - loss: 0.2286 - accuracy: 0.9158 - val_loss: 0.3052 - val_accuracy: 0.8799\n",
      "Epoch 5/10\n",
      "391/391 [==============================] - 28s 71ms/step - loss: 0.1889 - accuracy: 0.9322 - val_loss: 0.3108 - val_accuracy: 0.8799\n",
      "Epoch 6/10\n",
      "391/391 [==============================] - 28s 73ms/step - loss: 0.1543 - accuracy: 0.9465 - val_loss: 0.3289 - val_accuracy: 0.8766\n"
     ]
    }
   ],
   "source": [
    "# Instantiate model\n",
    "model = sequential_model()\n",
    "\n",
    "# Train and validate model\n",
    "history = model.fit(\n",
    "    train_dataset,\n",
    "    epochs=10,\n",
    "    batch_size=32,\n",
    "    validation_data=test_dataset,\n",
    "    callbacks=[tf.keras.callbacks.EarlyStopping(monitor=\"val_loss\", patience=2)])"
   ]
  },
  {
   "cell_type": "code",
   "execution_count": 14,
   "metadata": {},
   "outputs": [
    {
     "name": "stdout",
     "output_type": "stream",
     "text": [
      "391/391 [==============================] - 8s 20ms/step - loss: 0.3289 - accuracy: 0.8766\n",
      "Test loss: 0.3288542628288269 | Test accuracy: 0.8765599727630615\n"
     ]
    }
   ],
   "source": [
    "# Evaluate model performance on test dataset\n",
    "test_loss, test_acc = model.evaluate(test_dataset)\n",
    "\n",
    "print(f\"Test loss: {test_loss} | Test accuracy: {test_acc}\")"
   ]
  },
  {
   "cell_type": "markdown",
   "metadata": {},
   "source": [
    "### Visualize model performance"
   ]
  },
  {
   "cell_type": "code",
   "execution_count": 15,
   "metadata": {
    "ExecuteTime": {
     "end_time": "2021-02-08T00:51:18.021742Z",
     "start_time": "2021-02-08T00:51:18.015213Z"
    }
   },
   "outputs": [
    {
     "data": {
      "image/png": "[encoded data removed]",
      "text/plain": [
       "<Figure size 432x288 with 1 Axes>"
      ]
     },
     "metadata": {
      "needs_background": "light"
     },
     "output_type": "display_data"
    },
    {
     "data": {
      "image/png": "[encoded data removed]",
      "text/plain": [
       "<Figure size 432x288 with 1 Axes>"
      ]
     },
     "metadata": {
      "needs_background": "light"
     },
     "output_type": "display_data"
    }
   ],
   "source": [
    "# Summarize history for accuracy\n",
    "plt.plot(history.history[\"accuracy\"])\n",
    "plt.plot(history.history[\"val_accuracy\"])\n",
    "plt.title(\"model accuracy\")\n",
    "plt.ylabel(\"accuracy\")\n",
    "plt.xlabel(\"epoch\")\n",
    "plt.legend([\"train\", \"val\"], loc=\"upper left\")\n",
    "plt.show()\n",
    "\n",
    "# Summarize history for loss\n",
    "plt.plot(history.history[\"loss\"])\n",
    "plt.plot(history.history[\"val_loss\"])\n",
    "plt.title(\"model loss\")\n",
    "plt.ylabel(\"loss\")\n",
    "plt.xlabel(\"epoch\")\n",
    "plt.legend([\"train\", \"val\"], loc=\"upper left\")\n",
    "plt.show()"
   ]
  },
  {
   "cell_type": "markdown",
   "metadata": {},
   "source": [
    "# Using pre-trained embeddings\n",
    "\n",
    "Download the GloVe word embeddings\n",
    "\n",
    "Head to `https://nlp.stanford.edu/projects/glove/`, and download a pre-computed \n",
    "embeddings."
   ]
  },
  {
   "cell_type": "markdown",
   "metadata": {},
   "source": [
    "### Pre-processing embeddings"
   ]
  },
  {
   "cell_type": "code",
   "execution_count": 16,
   "metadata": {},
   "outputs": [
    {
     "name": "stdout",
     "output_type": "stream",
     "text": [
      "Found 400000 word vectors.\n"
     ]
    }
   ],
   "source": [
    "# Load pre-trained embedding\n",
    "embeddings_index = dict()\n",
    "with open(os.path.join(\"/home/nityan/embeddings/glove.6B.100d.txt\")) as f:\n",
    "    for line in f:\n",
    "        values = line.split()\n",
    "        word = values[0]\n",
    "        coefs = np.asarray(values[1:], dtype=\"float32\")\n",
    "        embeddings_index[word] = coefs\n",
    "\n",
    "print(\"Found %s word vectors.\" % len(embeddings_index))"
   ]
  },
  {
   "cell_type": "code",
   "execution_count": 17,
   "metadata": {},
   "outputs": [
    {
     "name": "stdout",
     "output_type": "stream",
     "text": [
      "Total number of words: 10000\n",
      "Embedding Matrix: (10000, 100)\n"
     ]
    }
   ],
   "source": [
    "# Get vocab for the corpus\n",
    "vocabulary = encoder.get_vocabulary()\n",
    "word_index = dict(zip(vocabulary, range(len(vocabulary))))\n",
    "\n",
    "print(\"Total number of words:\", len(word_index))\n",
    "\n",
    "# Now let's build an embedding matrix that we will load into an `Embedding` layer.\n",
    "embedding_matrix = np.zeros((VOCAB_SIZE, EMBEDDING_DIM))\n",
    "\n",
    "for word, i in word_index.items():\n",
    "    embedding_vector = embeddings_index.get(word)\n",
    "    if i <= VOCAB_SIZE:\n",
    "        if embedding_vector is not None:\n",
    "            # Words not found in embedding index will be all-zeros.\n",
    "            embedding_matrix[i] = embedding_vector\n",
    "\n",
    "print(\"Embedding Matrix:\", embedding_matrix.shape)"
   ]
  },
  {
   "cell_type": "markdown",
   "metadata": {},
   "source": [
    "### Modelling"
   ]
  },
  {
   "cell_type": "code",
   "execution_count": 18,
   "metadata": {},
   "outputs": [],
   "source": [
    "def sequential_model():\n",
    "    model = tf.keras.Sequential()\n",
    "\n",
    "    # Embedding layer\n",
    "    model.add(layers.Embedding(\n",
    "        VOCAB_SIZE, \n",
    "        EMBEDDING_DIM, \n",
    "        input_length=MAX_SEQUENCE_LENGTH, \n",
    "        trainable=False, \n",
    "        embeddings_initializer=tf.keras.initializers.Constant(embedding_matrix)))\n",
    "\n",
    "    # Normalization and dropout regularizer\n",
    "    model.add(layers.BatchNormalization())\n",
    "    model.add(layers.Dropout(0.3))\n",
    "    \n",
    "    # Sequence processing layer\n",
    "    model.add(layers.Bidirectional(layers.LSTM(128, return_sequences=True)))\n",
    "    model.add(layers.Bidirectional(layers.LSTM(128)))\n",
    "\n",
    "    # Dense layers with dropout regulaarizer\n",
    "    model.add(layers.Dense(64, activation=\"relu\"))\n",
    "    model.add(layers.Dropout(0.3))\n",
    "    model.add(layers.Dense(32, activation=\"relu\"))\n",
    "\n",
    "    # We add the classifier on top\n",
    "    model.add(layers.Dense(1, activation=\"sigmoid\"))\n",
    "\n",
    "    # Compile the model\n",
    "    model.compile(optimizer=\"rmsprop\", loss=\"binary_crossentropy\", metrics=[\"accuracy\"])\n",
    "    \n",
    "    return model"
   ]
  },
  {
   "cell_type": "code",
   "execution_count": 19,
   "metadata": {},
   "outputs": [
    {
     "name": "stdout",
     "output_type": "stream",
     "text": [
      "Epoch 1/10\n",
      "391/391 [==============================] - 26s 68ms/step - loss: 0.5827 - accuracy: 0.7038 - val_loss: 0.5102 - val_accuracy: 0.7685\n",
      "Epoch 2/10\n",
      "391/391 [==============================] - 26s 67ms/step - loss: 0.5002 - accuracy: 0.7596 - val_loss: 0.4568 - val_accuracy: 0.8059\n",
      "Epoch 3/10\n",
      "391/391 [==============================] - 26s 67ms/step - loss: 0.4474 - accuracy: 0.7980 - val_loss: 0.4516 - val_accuracy: 0.7999\n",
      "Epoch 4/10\n",
      "391/391 [==============================] - 26s 66ms/step - loss: 0.4108 - accuracy: 0.8170 - val_loss: 0.3873 - val_accuracy: 0.8126\n",
      "Epoch 5/10\n",
      "391/391 [==============================] - 26s 67ms/step - loss: 0.3878 - accuracy: 0.8272 - val_loss: 0.3590 - val_accuracy: 0.8502\n",
      "Epoch 6/10\n",
      "391/391 [==============================] - 26s 67ms/step - loss: 0.3724 - accuracy: 0.8373 - val_loss: 0.3409 - val_accuracy: 0.8544\n",
      "Epoch 7/10\n",
      "391/391 [==============================] - 26s 66ms/step - loss: 0.3489 - accuracy: 0.8474 - val_loss: 0.3426 - val_accuracy: 0.8480\n",
      "Epoch 8/10\n",
      "391/391 [==============================] - 26s 67ms/step - loss: 0.3304 - accuracy: 0.8592 - val_loss: 0.3047 - val_accuracy: 0.8712\n",
      "Epoch 9/10\n",
      "391/391 [==============================] - 26s 66ms/step - loss: 0.3105 - accuracy: 0.8709 - val_loss: 0.3387 - val_accuracy: 0.8608\n",
      "Epoch 10/10\n",
      "391/391 [==============================] - 26s 67ms/step - loss: 0.2851 - accuracy: 0.8829 - val_loss: 0.3461 - val_accuracy: 0.8763\n"
     ]
    }
   ],
   "source": [
    "# Instantiate model\n",
    "model = sequential_model()\n",
    "\n",
    "# Train and validate model\n",
    "history = model.fit(\n",
    "    train_dataset,\n",
    "    epochs=10,\n",
    "    batch_size=32,\n",
    "    validation_data=test_dataset,\n",
    "    callbacks=[tf.keras.callbacks.EarlyStopping(monitor=\"val_loss\", patience=2)])"
   ]
  },
  {
   "cell_type": "code",
   "execution_count": 20,
   "metadata": {},
   "outputs": [
    {
     "name": "stdout",
     "output_type": "stream",
     "text": [
      "391/391 [==============================] - 8s 21ms/step - loss: 0.3461 - accuracy: 0.8763\n",
      "Test loss: 0.34607282280921936 | Test accuracy: 0.8763200044631958\n"
     ]
    }
   ],
   "source": [
    "# Evaluate model performance on test dataset\n",
    "test_loss, test_acc = model.evaluate(test_dataset)\n",
    "\n",
    "print(f\"Test loss: {test_loss} | Test accuracy: {test_acc}\")"
   ]
  },
  {
   "cell_type": "markdown",
   "metadata": {},
   "source": [
    "### Visualize model performance"
   ]
  },
  {
   "cell_type": "code",
   "execution_count": 21,
   "metadata": {},
   "outputs": [
    {
     "data": {
      "image/png": "[encoded data removed]",
      "text/plain": [
       "<Figure size 432x288 with 1 Axes>"
      ]
     },
     "metadata": {
      "needs_background": "light"
     },
     "output_type": "display_data"
    },
    {
     "data": {
      "image/png": "[encoded data removed]",
      "text/plain": [
       "<Figure size 432x288 with 1 Axes>"
      ]
     },
     "metadata": {
      "needs_background": "light"
     },
     "output_type": "display_data"
    }
   ],
   "source": [
    "# Summarize history for accuracy\n",
    "plt.plot(history.history[\"accuracy\"])\n",
    "plt.plot(history.history[\"val_accuracy\"])\n",
    "plt.title(\"model accuracy\")\n",
    "plt.ylabel(\"accuracy\")\n",
    "plt.xlabel(\"epoch\")\n",
    "plt.legend([\"train\", \"val\"], loc=\"upper left\")\n",
    "plt.show()\n",
    "\n",
    "# Summarize history for loss\n",
    "plt.plot(history.history[\"loss\"])\n",
    "plt.plot(history.history[\"val_loss\"])\n",
    "plt.title(\"model loss\")\n",
    "plt.ylabel(\"loss\")\n",
    "plt.xlabel(\"epoch\")\n",
    "plt.legend([\"train\", \"val\"], loc=\"upper left\")\n",
    "plt.show()"
   ]
  },
  {
   "cell_type": "code",
   "execution_count": null,
   "metadata": {},
   "outputs": [],
   "source": []
  }
 ],
 "metadata": {
  "kernelspec": {
   "display_name": "Python [conda env:dl-env]",
   "language": "python",
   "name": "conda-env-dl-env-py"
  },
  "language_info": {
   "codemirror_mode": {
    "name": "ipython",
    "version": 3
   },
   "file_extension": ".py",
   "mimetype": "text/x-python",
   "name": "python",
   "nbconvert_exporter": "python",
   "pygments_lexer": "ipython3",
   "version": "3.8.8"
  }
 },
 "nbformat": 4,
 "nbformat_minor": 2
}
