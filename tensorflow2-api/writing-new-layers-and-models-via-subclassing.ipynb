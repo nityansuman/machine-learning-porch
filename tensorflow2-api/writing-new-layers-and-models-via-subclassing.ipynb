{
 "cells": [
  {
   "cell_type": "markdown",
   "metadata": {},
   "source": [
    "# Custom Layers and Models via Subclassing"
   ]
  },
  {
   "cell_type": "code",
   "execution_count": 1,
   "metadata": {
    "ExecuteTime": {
     "end_time": "2021-02-09T16:55:37.659260Z",
     "start_time": "2021-02-09T16:55:36.056263Z"
    }
   },
   "outputs": [
    {
     "data": {
      "text/plain": [
       "'2.7.0'"
      ]
     },
     "execution_count": 1,
     "metadata": {},
     "output_type": "execute_result"
    }
   ],
   "source": [
    "# Import packages\n",
    "import tensorflow as tf\n",
    "\n",
    "from tensorflow.keras import layers\n",
    "\n",
    "tf.__version__ # 2.x"
   ]
  },
  {
   "cell_type": "markdown",
   "metadata": {},
   "source": [
    "## The Layer Class\n",
    "\n",
    "One of the central abstraction in TF is the Layer class.\n",
    "A layer encapsulates both a state (the layer's \"weights\") and a transformation from inputs to outputs (a \"call\", the layer's forward pass).\n",
    "\n",
    "Weights are created using `Variable` method and then passing a initializer to it."
   ]
  },
  {
   "cell_type": "code",
   "execution_count": 2,
   "metadata": {
    "ExecuteTime": {
     "end_time": "2021-02-09T16:55:37.665338Z",
     "start_time": "2021-02-09T16:55:37.660806Z"
    }
   },
   "outputs": [],
   "source": [
    "# Linear dense (without any activation) layer implementation\n",
    "class Linear(tf.keras.layers.Layer):\n",
    "    \n",
    "    def __init__(self, units=32, input_dim=32):\n",
    "        super(Linear, self).__init__()\n",
    "        # Initialize weights\n",
    "        w_init = tf.random_uniform_initializer()\n",
    "        self.w = tf.Variable(\n",
    "            initial_value=w_init(shape=(input_dim, units), dtype=\"float32\"), trainable=True,\n",
    "        )\n",
    "        # Initialize bias\n",
    "        b_init = tf.zeros_initializer()\n",
    "        self.b = tf.Variable(\n",
    "            initial_value=b_init(shape=(units,), dtype=\"float32\"), trainable=True\n",
    "        )\n",
    "    \n",
    "    def call(self, inputs):\n",
    "        # Forward pass\n",
    "        return tf.matmul(inputs, self.w) + self.b"
   ]
  },
  {
   "cell_type": "code",
   "execution_count": 3,
   "metadata": {
    "ExecuteTime": {
     "end_time": "2021-02-09T16:55:38.464059Z",
     "start_time": "2021-02-09T16:55:37.666937Z"
    }
   },
   "outputs": [
    {
     "name": "stderr",
     "output_type": "stream",
     "text": [
      "2021-12-05 09:26:55.649840: I tensorflow/stream_executor/cuda/cuda_gpu_executor.cc:939] successful NUMA node read from SysFS had negative value (-1), but there must be at least one NUMA node, so returning NUMA node zero\n",
      "2021-12-05 09:26:55.653917: I tensorflow/stream_executor/cuda/cuda_gpu_executor.cc:939] successful NUMA node read from SysFS had negative value (-1), but there must be at least one NUMA node, so returning NUMA node zero\n",
      "2021-12-05 09:26:55.654380: I tensorflow/stream_executor/cuda/cuda_gpu_executor.cc:939] successful NUMA node read from SysFS had negative value (-1), but there must be at least one NUMA node, so returning NUMA node zero\n",
      "2021-12-05 09:26:55.655245: I tensorflow/core/platform/cpu_feature_guard.cc:151] This TensorFlow binary is optimized with oneAPI Deep Neural Network Library (oneDNN) to use the following CPU instructions in performance-critical operations:  AVX2 FMA\n",
      "To enable them in other operations, rebuild TensorFlow with the appropriate compiler flags.\n",
      "2021-12-05 09:26:55.656005: I tensorflow/stream_executor/cuda/cuda_gpu_executor.cc:939] successful NUMA node read from SysFS had negative value (-1), but there must be at least one NUMA node, so returning NUMA node zero\n",
      "2021-12-05 09:26:55.656749: I tensorflow/stream_executor/cuda/cuda_gpu_executor.cc:939] successful NUMA node read from SysFS had negative value (-1), but there must be at least one NUMA node, so returning NUMA node zero\n",
      "2021-12-05 09:26:55.657502: I tensorflow/stream_executor/cuda/cuda_gpu_executor.cc:939] successful NUMA node read from SysFS had negative value (-1), but there must be at least one NUMA node, so returning NUMA node zero\n",
      "2021-12-05 09:26:56.084809: I tensorflow/stream_executor/cuda/cuda_gpu_executor.cc:939] successful NUMA node read from SysFS had negative value (-1), but there must be at least one NUMA node, so returning NUMA node zero\n",
      "2021-12-05 09:26:56.085645: I tensorflow/stream_executor/cuda/cuda_gpu_executor.cc:939] successful NUMA node read from SysFS had negative value (-1), but there must be at least one NUMA node, so returning NUMA node zero\n",
      "2021-12-05 09:26:56.086357: I tensorflow/stream_executor/cuda/cuda_gpu_executor.cc:939] successful NUMA node read from SysFS had negative value (-1), but there must be at least one NUMA node, so returning NUMA node zero\n",
      "2021-12-05 09:26:56.087032: I tensorflow/core/common_runtime/gpu/gpu_device.cc:1525] Created device /job:localhost/replica:0/task:0/device:GPU:0 with 9119 MB memory:  -> device: 0, name: NVIDIA GeForce RTX 2080 Ti, pci bus id: 0000:2d:00.0, compute capability: 7.5\n"
     ]
    },
    {
     "data": {
      "text/plain": [
       "<__main__.Linear at 0x7fc1e1c6b160>"
      ]
     },
     "execution_count": 3,
     "metadata": {},
     "output_type": "execute_result"
    }
   ],
   "source": [
    "Linear()"
   ]
  },
  {
   "cell_type": "markdown",
   "metadata": {},
   "source": [
    "You would use a layer by calling it on some input tensor, much like a Python function."
   ]
  },
  {
   "cell_type": "code",
   "execution_count": 4,
   "metadata": {
    "ExecuteTime": {
     "end_time": "2021-02-09T16:55:38.701021Z",
     "start_time": "2021-02-09T16:55:38.465123Z"
    }
   },
   "outputs": [
    {
     "name": "stdout",
     "output_type": "stream",
     "text": [
      "Output: tf.Tensor(\n",
      "[[ 0.03256869 -0.0267356   0.02597683 -0.05120901 -0.01899035  0.00940387\n",
      "  -0.03205577  0.00081595  0.0530762  -0.04714317 -0.02021838  0.05250065\n",
      "   0.06428746 -0.02179533 -0.07483177 -0.0186244   0.00369168  0.02791958\n",
      "   0.00781361 -0.05093931 -0.0177935  -0.00920062 -0.07213768  0.03296357\n",
      "   0.03095433  0.03066542 -0.02003314  0.02657256 -0.06937231  0.05224498\n",
      "  -0.01098096 -0.03049957]\n",
      " [ 0.03256869 -0.0267356   0.02597683 -0.05120901 -0.01899035  0.00940387\n",
      "  -0.03205577  0.00081595  0.0530762  -0.04714317 -0.02021838  0.05250065\n",
      "   0.06428746 -0.02179533 -0.07483177 -0.0186244   0.00369168  0.02791958\n",
      "   0.00781361 -0.05093931 -0.0177935  -0.00920062 -0.07213768  0.03296357\n",
      "   0.03095433  0.03066542 -0.02003314  0.02657256 -0.06937231  0.05224498\n",
      "  -0.01098096 -0.03049957]], shape=(2, 32), dtype=float32)\n"
     ]
    }
   ],
   "source": [
    "linear_layer = Linear(input_dim=2)\n",
    "y = linear_layer(tf.ones((2, 2)))\n",
    "\n",
    "print(\"Output:\", y)"
   ]
  },
  {
   "cell_type": "markdown",
   "metadata": {},
   "source": [
    "Better way to create weights for each layer is by using `add_weight`."
   ]
  },
  {
   "cell_type": "code",
   "execution_count": 5,
   "metadata": {
    "ExecuteTime": {
     "end_time": "2021-02-09T16:55:38.707019Z",
     "start_time": "2021-02-09T16:55:38.702658Z"
    }
   },
   "outputs": [],
   "source": [
    "class Linear(tf.keras.layers.Layer):\n",
    "    def __init__(self, units=32, input_dim=32):\n",
    "        super(Linear, self).__init__()\n",
    "        # Add weights in constructor\n",
    "        self.w = self.add_weight(\n",
    "            shape=(input_dim, units), initializer=tf.random_uniform_initializer(), trainable=True\n",
    "        )\n",
    "        self.b = self.add_weight(shape=(units,), initializer=tf.zeros_initializer(), trainable=True)\n",
    "\n",
    "    def call(self, inputs):\n",
    "        return tf.matmul(inputs, self.w) + self.b"
   ]
  },
  {
   "cell_type": "code",
   "execution_count": 6,
   "metadata": {
    "ExecuteTime": {
     "end_time": "2021-02-09T16:55:38.715174Z",
     "start_time": "2021-02-09T16:55:38.707989Z"
    }
   },
   "outputs": [
    {
     "data": {
      "text/plain": [
       "<__main__.Linear at 0x7fc1e1c18880>"
      ]
     },
     "execution_count": 6,
     "metadata": {},
     "output_type": "execute_result"
    }
   ],
   "source": [
    "Linear()"
   ]
  },
  {
   "cell_type": "code",
   "execution_count": 7,
   "metadata": {
    "ExecuteTime": {
     "end_time": "2021-02-09T16:55:38.724264Z",
     "start_time": "2021-02-09T16:55:38.716212Z"
    }
   },
   "outputs": [
    {
     "name": "stdout",
     "output_type": "stream",
     "text": [
      "Output: tf.Tensor(\n",
      "[[ 0.01752564  0.0009395  -0.06829813  0.03295275  0.04466343  0.03496991\n",
      "  -0.03903058  0.03270707 -0.0148867   0.03014386 -0.00034757 -0.04917326\n",
      "   0.06051666 -0.01691652 -0.01125877 -0.03261441 -0.01653082  0.03802218\n",
      "   0.00921635 -0.02513259 -0.00793837  0.07657116  0.02421763 -0.01144796\n",
      "  -0.07792601 -0.06050552  0.06634013 -0.06091205  0.01640324 -0.00594087\n",
      "  -0.0485903  -0.07270332]\n",
      " [ 0.01752564  0.0009395  -0.06829813  0.03295275  0.04466343  0.03496991\n",
      "  -0.03903058  0.03270707 -0.0148867   0.03014386 -0.00034757 -0.04917326\n",
      "   0.06051666 -0.01691652 -0.01125877 -0.03261441 -0.01653082  0.03802218\n",
      "   0.00921635 -0.02513259 -0.00793837  0.07657116  0.02421763 -0.01144796\n",
      "  -0.07792601 -0.06050552  0.06634013 -0.06091205  0.01640324 -0.00594087\n",
      "  -0.0485903  -0.07270332]], shape=(2, 32), dtype=float32)\n"
     ]
    }
   ],
   "source": [
    "linear_layer = Linear(input_dim=2)\n",
    "y = linear_layer(tf.ones((2, 2)))\n",
    "\n",
    "print(\"Output:\", y)"
   ]
  },
  {
   "cell_type": "markdown",
   "metadata": {},
   "source": [
    "Layers can have non-trainable weights as well. Set `trainable` to False for such weights.\n",
    "\n",
    "Such weights are ignored during backpropagation, when you are training the layer."
   ]
  },
  {
   "cell_type": "code",
   "execution_count": 8,
   "metadata": {
    "ExecuteTime": {
     "end_time": "2021-02-09T16:55:38.727899Z",
     "start_time": "2021-02-09T16:55:38.725501Z"
    }
   },
   "outputs": [],
   "source": [
    "class ComputeSum(tf.keras.layers.Layer):\n",
    "    def __init__(self, input_dim=32):\n",
    "        super(ComputeSum, self).__init__()\n",
    "        # Create non-trainable weights\n",
    "        self.total = self.add_weight(\n",
    "            shape=(input_dim,), initializer=tf.zeros_initializer(), trainable=False\n",
    "        )\n",
    "    \n",
    "    def call(self, inputs):\n",
    "        self.total.assign_add(tf.reduce_sum(inputs, axis=0))\n",
    "        return self.total"
   ]
  },
  {
   "cell_type": "code",
   "execution_count": 9,
   "metadata": {
    "ExecuteTime": {
     "end_time": "2021-02-09T16:55:38.734993Z",
     "start_time": "2021-02-09T16:55:38.728765Z"
    }
   },
   "outputs": [
    {
     "data": {
      "text/plain": [
       "<__main__.ComputeSum at 0x7fc1e0196520>"
      ]
     },
     "execution_count": 9,
     "metadata": {},
     "output_type": "execute_result"
    }
   ],
   "source": [
    "ComputeSum()"
   ]
  },
  {
   "cell_type": "code",
   "execution_count": 10,
   "metadata": {
    "ExecuteTime": {
     "end_time": "2021-02-09T16:55:38.744556Z",
     "start_time": "2021-02-09T16:55:38.736612Z"
    }
   },
   "outputs": [
    {
     "name": "stdout",
     "output_type": "stream",
     "text": [
      "Output: <tf.Variable 'Variable:0' shape=(2,) dtype=float32, numpy=array([2., 2.], dtype=float32)>\n"
     ]
    }
   ],
   "source": [
    "sum_layer = ComputeSum(input_dim=2)\n",
    "y = sum_layer(tf.ones((2, 2)))\n",
    "\n",
    "print(\"Output:\", y)"
   ]
  },
  {
   "cell_type": "markdown",
   "metadata": {},
   "source": [
    "Like trainable weights it is part of layer.weights, but it gets categorized as a non-trainable weight:"
   ]
  },
  {
   "cell_type": "code",
   "execution_count": 11,
   "metadata": {
    "ExecuteTime": {
     "end_time": "2021-02-09T16:55:38.747907Z",
     "start_time": "2021-02-09T16:55:38.745276Z"
    }
   },
   "outputs": [
    {
     "name": "stdout",
     "output_type": "stream",
     "text": [
      "Weights: [<tf.Variable 'Variable:0' shape=(2,) dtype=float32, numpy=array([2., 2.], dtype=float32)>]\n",
      "Non-trainable weights: [<tf.Variable 'Variable:0' shape=(2,) dtype=float32, numpy=array([2., 2.], dtype=float32)>]\n",
      "Trainable_weights: []\n"
     ]
    }
   ],
   "source": [
    "print(\"Weights:\", sum_layer.weights)\n",
    "print(\"Non-trainable weights:\", sum_layer.non_trainable_weights)\n",
    "print(\"Trainable_weights:\", sum_layer.trainable_weights)"
   ]
  },
  {
   "cell_type": "code",
   "execution_count": 12,
   "metadata": {
    "ExecuteTime": {
     "end_time": "2021-02-09T16:55:38.758242Z",
     "start_time": "2021-02-09T16:55:38.748547Z"
    }
   },
   "outputs": [
    {
     "name": "stdout",
     "output_type": "stream",
     "text": [
      "Weights: [<tf.Variable 'Variable:0' shape=(2, 32) dtype=float32, numpy=\n",
      "array([[ 0.03472043, -0.00285698, -0.04966266,  0.02834609,  0.01665084,\n",
      "         0.01965741,  0.0091069 ,  0.01256463, -0.04892944,  0.04348368,\n",
      "        -0.03333709, -0.0265271 ,  0.02079332, -0.02796942,  0.03265506,\n",
      "        -0.00083668,  0.01536772,  0.01702425,  0.02468638, -0.00701565,\n",
      "        -0.02936511,  0.04261743,  0.01108792, -0.03035083, -0.0371431 ,\n",
      "        -0.02894319,  0.0247562 , -0.02849113,  0.03462094, -0.01732335,\n",
      "        -0.01706024, -0.04409164],\n",
      "       [-0.0171948 ,  0.00379648, -0.01863547,  0.00460666,  0.02801258,\n",
      "         0.0153125 , -0.04813747,  0.02014244,  0.03404274, -0.01333982,\n",
      "         0.03298953, -0.02264616,  0.03972334,  0.0110529 , -0.04391383,\n",
      "        -0.03177773, -0.03189854,  0.02099793, -0.01547004, -0.01811694,\n",
      "         0.02142674,  0.03395373,  0.01312971,  0.01890286, -0.04078291,\n",
      "        -0.03156233,  0.04158392, -0.03242092, -0.01821771,  0.01138248,\n",
      "        -0.03153006, -0.02861167]], dtype=float32)>, <tf.Variable 'Variable:0' shape=(32,) dtype=float32, numpy=\n",
      "array([0., 0., 0., 0., 0., 0., 0., 0., 0., 0., 0., 0., 0., 0., 0., 0., 0.,\n",
      "       0., 0., 0., 0., 0., 0., 0., 0., 0., 0., 0., 0., 0., 0., 0.],\n",
      "      dtype=float32)>]\n",
      "Non-trainable weights: []\n",
      "Trainable_weights: [<tf.Variable 'Variable:0' shape=(2, 32) dtype=float32, numpy=\n",
      "array([[ 0.03472043, -0.00285698, -0.04966266,  0.02834609,  0.01665084,\n",
      "         0.01965741,  0.0091069 ,  0.01256463, -0.04892944,  0.04348368,\n",
      "        -0.03333709, -0.0265271 ,  0.02079332, -0.02796942,  0.03265506,\n",
      "        -0.00083668,  0.01536772,  0.01702425,  0.02468638, -0.00701565,\n",
      "        -0.02936511,  0.04261743,  0.01108792, -0.03035083, -0.0371431 ,\n",
      "        -0.02894319,  0.0247562 , -0.02849113,  0.03462094, -0.01732335,\n",
      "        -0.01706024, -0.04409164],\n",
      "       [-0.0171948 ,  0.00379648, -0.01863547,  0.00460666,  0.02801258,\n",
      "         0.0153125 , -0.04813747,  0.02014244,  0.03404274, -0.01333982,\n",
      "         0.03298953, -0.02264616,  0.03972334,  0.0110529 , -0.04391383,\n",
      "        -0.03177773, -0.03189854,  0.02099793, -0.01547004, -0.01811694,\n",
      "         0.02142674,  0.03395373,  0.01312971,  0.01890286, -0.04078291,\n",
      "        -0.03156233,  0.04158392, -0.03242092, -0.01821771,  0.01138248,\n",
      "        -0.03153006, -0.02861167]], dtype=float32)>, <tf.Variable 'Variable:0' shape=(32,) dtype=float32, numpy=\n",
      "array([0., 0., 0., 0., 0., 0., 0., 0., 0., 0., 0., 0., 0., 0., 0., 0., 0.,\n",
      "       0., 0., 0., 0., 0., 0., 0., 0., 0., 0., 0., 0., 0., 0., 0.],\n",
      "      dtype=float32)>]\n"
     ]
    }
   ],
   "source": [
    "print(\"Weights:\", linear_layer.weights)\n",
    "print(\"Non-trainable weights:\", linear_layer.non_trainable_weights)\n",
    "print(\"Trainable_weights:\", linear_layer.trainable_weights)"
   ]
  },
  {
   "cell_type": "markdown",
   "metadata": {},
   "source": [
    "In many cases, you may not know in advance the size of your inputs, and you would like to lazily create weights when that value becomes known, some time after instantiating the layer.\n",
    "\n",
    "Use `build(self, inputs_shape)` method in such scenarios."
   ]
  },
  {
   "cell_type": "code",
   "execution_count": 13,
   "metadata": {
    "ExecuteTime": {
     "end_time": "2021-02-09T16:55:38.762655Z",
     "start_time": "2021-02-09T16:55:38.759337Z"
    }
   },
   "outputs": [],
   "source": [
    "class Linear(tf.keras.layers.Layer):\n",
    "    def __init__(self, units=32):\n",
    "        super(Linear, self).__init__()\n",
    "        self.units = units\n",
    "\n",
    "    def build(self, input_shape):\n",
    "        # Initialize weights here rather than in __init__\n",
    "        self.w = self.add_weight(\n",
    "            shape=(input_shape[-1], self.units),\n",
    "            initializer=\"random_uniform\",\n",
    "            trainable=True,\n",
    "        )\n",
    "        self.b = self.add_weight(\n",
    "            shape=(self.units,), initializer=\"random_uniform\", trainable=False\n",
    "        )\n",
    "\n",
    "    def call(self, inputs):\n",
    "        return tf.matmul(inputs, self.w) + self.b"
   ]
  },
  {
   "cell_type": "code",
   "execution_count": 14,
   "metadata": {
    "ExecuteTime": {
     "end_time": "2021-02-09T16:55:38.768360Z",
     "start_time": "2021-02-09T16:55:38.763307Z"
    }
   },
   "outputs": [
    {
     "data": {
      "text/plain": [
       "<__main__.Linear at 0x7fc1e1c18b50>"
      ]
     },
     "execution_count": 14,
     "metadata": {},
     "output_type": "execute_result"
    }
   ],
   "source": [
    "Linear()"
   ]
  },
  {
   "cell_type": "markdown",
   "metadata": {},
   "source": [
    "The __call__() method of your layer will automatically run build the first time it is called."
   ]
  },
  {
   "cell_type": "code",
   "execution_count": 15,
   "metadata": {
    "ExecuteTime": {
     "end_time": "2021-02-09T16:55:38.778885Z",
     "start_time": "2021-02-09T16:55:38.769031Z"
    }
   },
   "outputs": [
    {
     "name": "stdout",
     "output_type": "stream",
     "text": [
      "tf.Tensor(\n",
      "[[ 0.01411444 -0.15406373 -0.15456314 ...  0.07136944 -0.05941238\n",
      "  -0.08913658]\n",
      " [ 0.01411444 -0.15406373 -0.15456314 ...  0.07136944 -0.05941238\n",
      "  -0.08913658]\n",
      " [ 0.01411444 -0.15406373 -0.15456314 ...  0.07136944 -0.05941238\n",
      "  -0.08913658]\n",
      " ...\n",
      " [ 0.01411444 -0.15406373 -0.15456314 ...  0.07136944 -0.05941238\n",
      "  -0.08913658]\n",
      " [ 0.01411444 -0.15406373 -0.15456314 ...  0.07136944 -0.05941238\n",
      "  -0.08913658]\n",
      " [ 0.01411444 -0.15406373 -0.15456314 ...  0.07136944 -0.05941238\n",
      "  -0.08913658]], shape=(100, 32), dtype=float32)\n"
     ]
    }
   ],
   "source": [
    "# At instantiation, we don't know on what inputs this is going to get called\n",
    "linear_layer = Linear(units=32)\n",
    "\n",
    "# The layer's weights are created dynamically the first time the layer is called\n",
    "y = linear_layer(tf.ones((100, 10)))\n",
    "\n",
    "print(y)"
   ]
  },
  {
   "cell_type": "markdown",
   "metadata": {},
   "source": [
    "Layers are recursively composable:\n",
    "\n",
    "- If you assign a Layer instance as attribute of another Layer, the outer layer will start tracking the weights of the inner layer.\n",
    "\n",
    "We recommend creating such sublayers in the __init__() method (since the sublayers will typically have a build method, they will be built when the outer layer gets built)."
   ]
  },
  {
   "cell_type": "code",
   "execution_count": 16,
   "metadata": {
    "ExecuteTime": {
     "end_time": "2021-02-09T16:55:38.783166Z",
     "start_time": "2021-02-09T16:55:38.779963Z"
    }
   },
   "outputs": [],
   "source": [
    "class MLPBlock(tf.keras.layers.Layer):\n",
    "    def __init__(self):\n",
    "        super(MLPBlock, self).__init__()\n",
    "        self.linear_1 = Linear(32)\n",
    "        self.linear_2 = Linear(32)\n",
    "        self.linear_3 = Linear(1)\n",
    "\n",
    "    def call(self, inputs):\n",
    "        x = self.linear_1(inputs)\n",
    "        x = tf.nn.relu(x)\n",
    "        x = self.linear_2(x)\n",
    "        x = tf.nn.relu(x)\n",
    "        y = self.linear_3(x)\n",
    "        return y"
   ]
  },
  {
   "cell_type": "code",
   "execution_count": 17,
   "metadata": {
    "ExecuteTime": {
     "end_time": "2021-02-09T16:55:38.798560Z",
     "start_time": "2021-02-09T16:55:38.784185Z"
    },
    "scrolled": true
   },
   "outputs": [
    {
     "name": "stdout",
     "output_type": "stream",
     "text": [
      "Output: (100, 1)\n",
      "Weights: [<tf.Variable 'mlp_block/linear_6/Variable:0' shape=(64, 32) dtype=float32, numpy=\n",
      "array([[ 0.00449582,  0.01607111,  0.04930012, ..., -0.04768664,\n",
      "         0.02447351, -0.00308717],\n",
      "       [ 0.00379281, -0.01250118,  0.01786853, ...,  0.00247435,\n",
      "        -0.03157356, -0.03763156],\n",
      "       [-0.02351732, -0.00710692,  0.02447944, ...,  0.01211698,\n",
      "        -0.01160783, -0.02966465],\n",
      "       ...,\n",
      "       [-0.0346539 ,  0.03762254, -0.00535514, ...,  0.02984199,\n",
      "        -0.01391277,  0.03444905],\n",
      "       [ 0.02291944,  0.01971172, -0.0252885 , ..., -0.04969681,\n",
      "        -0.03328296,  0.00262451],\n",
      "       [ 0.04289018,  0.03272624,  0.04079911, ...,  0.01104084,\n",
      "         0.02344097, -0.02211528]], dtype=float32)>, <tf.Variable 'mlp_block/linear_7/Variable:0' shape=(32, 32) dtype=float32, numpy=\n",
      "array([[ 0.03645417,  0.00677035,  0.02738023, ...,  0.03061763,\n",
      "        -0.04291555,  0.00419666],\n",
      "       [ 0.0130839 ,  0.03364328,  0.04196881, ..., -0.00578443,\n",
      "        -0.00393312,  0.03453535],\n",
      "       [-0.03278244,  0.01377728,  0.0104867 , ..., -0.03931787,\n",
      "         0.00902022,  0.00327686],\n",
      "       ...,\n",
      "       [-0.01401823, -0.00203737,  0.04686269, ...,  0.00332985,\n",
      "         0.01904721,  0.0075624 ],\n",
      "       [ 0.00756593,  0.036971  , -0.04668608, ..., -0.03042161,\n",
      "         0.00381453,  0.01360345],\n",
      "       [-0.01166079, -0.03254487, -0.00901936, ..., -0.02957271,\n",
      "         0.01784483, -0.00418731]], dtype=float32)>, <tf.Variable 'mlp_block/linear_8/Variable:0' shape=(32, 1) dtype=float32, numpy=\n",
      "array([[-0.03122442],\n",
      "       [ 0.00113215],\n",
      "       [-0.04048284],\n",
      "       [-0.00319313],\n",
      "       [-0.01107506],\n",
      "       [ 0.03019169],\n",
      "       [ 0.02454485],\n",
      "       [-0.01938774],\n",
      "       [ 0.00152659],\n",
      "       [-0.02813549],\n",
      "       [ 0.00897499],\n",
      "       [-0.03865262],\n",
      "       [-0.00561454],\n",
      "       [-0.00277171],\n",
      "       [ 0.01062858],\n",
      "       [-0.04677062],\n",
      "       [-0.03364139],\n",
      "       [-0.00385662],\n",
      "       [ 0.02391434],\n",
      "       [ 0.01592227],\n",
      "       [ 0.03958131],\n",
      "       [-0.04394047],\n",
      "       [-0.00795973],\n",
      "       [ 0.01570589],\n",
      "       [-0.00479593],\n",
      "       [ 0.04199759],\n",
      "       [ 0.02752108],\n",
      "       [-0.02564561],\n",
      "       [-0.00911947],\n",
      "       [ 0.04231841],\n",
      "       [ 0.00222602],\n",
      "       [-0.04758635]], dtype=float32)>, <tf.Variable 'mlp_block/linear_6/Variable:0' shape=(32,) dtype=float32, numpy=\n",
      "array([ 0.01774961,  0.04003099, -0.0071987 , -0.0435986 , -0.03322415,\n",
      "        0.04690466,  0.00879886,  0.009596  ,  0.03028638, -0.036544  ,\n",
      "        0.04166252, -0.02145289, -0.00949811,  0.00112765,  0.04637555,\n",
      "       -0.04692134, -0.0130355 , -0.0488783 , -0.02783052, -0.01608651,\n",
      "       -0.00701297, -0.02782377,  0.02109739,  0.03019476, -0.0086045 ,\n",
      "        0.00205194, -0.02044346, -0.00522131, -0.00085195,  0.01085804,\n",
      "        0.03016535, -0.02765778], dtype=float32)>, <tf.Variable 'mlp_block/linear_7/Variable:0' shape=(32,) dtype=float32, numpy=\n",
      "array([ 0.04847164,  0.02135924,  0.03988597, -0.03497635, -0.03914148,\n",
      "        0.02861151,  0.01455558,  0.00986229, -0.02309809, -0.04374458,\n",
      "        0.04310486, -0.0141427 ,  0.02506507,  0.01643915, -0.01069923,\n",
      "        0.02329202,  0.01177106,  0.03968703, -0.04804252,  0.00687768,\n",
      "       -0.03877165, -0.01306634,  0.04414631, -0.01627414,  0.03723823,\n",
      "        0.03936328, -0.03670543,  0.01044749, -0.0009316 ,  0.02912244,\n",
      "        0.03604421, -0.02503128], dtype=float32)>, <tf.Variable 'mlp_block/linear_8/Variable:0' shape=(1,) dtype=float32, numpy=array([0.04013864], dtype=float32)>]\n"
     ]
    }
   ],
   "source": [
    "perceptron = MLPBlock()\n",
    "y = perceptron(tf.ones(shape=(100, 64)))\n",
    "\n",
    "print(\"Output:\", y.shape)\n",
    "print(\"Weights:\", perceptron.weights)"
   ]
  },
  {
   "cell_type": "markdown",
   "metadata": {},
   "source": [
    "Layers developed in such fashion (via subclassing) are not serializable.\n",
    "\n",
    "If you need your custom layers to be serializable, you can optionally implement a `get_config()` method."
   ]
  },
  {
   "cell_type": "code",
   "execution_count": 18,
   "metadata": {
    "ExecuteTime": {
     "end_time": "2021-02-09T16:55:38.802147Z",
     "start_time": "2021-02-09T16:55:38.799264Z"
    }
   },
   "outputs": [],
   "source": [
    "class Linear(tf.keras.layers.Layer):\n",
    "    def __init__(self, units=32, **kwargs):\n",
    "        super(Linear, self).__init__(**kwargs)\n",
    "        self.units = units\n",
    "\n",
    "    def build(self, input_shape):\n",
    "        self.w = self.add_weight(\n",
    "            shape=(input_shape[-1], self.units),\n",
    "            initializer=\"random_normal\",\n",
    "            trainable=True,\n",
    "        )\n",
    "        self.b = self.add_weight(\n",
    "            shape=(self.units,), initializer=\"random_normal\", trainable=True\n",
    "        )\n",
    "\n",
    "    def call(self, inputs):\n",
    "        return tf.matmul(inputs, self.w) + self.b\n",
    "\n",
    "    def get_config(self):\n",
    "        config = super(Linear, self).get_config()\n",
    "        config.update({\"units\": self.units})\n",
    "        return config"
   ]
  },
  {
   "cell_type": "code",
   "execution_count": 19,
   "metadata": {
    "ExecuteTime": {
     "end_time": "2021-02-09T16:55:38.810688Z",
     "start_time": "2021-02-09T16:55:38.802800Z"
    }
   },
   "outputs": [
    {
     "name": "stdout",
     "output_type": "stream",
     "text": [
      "Layers: <__main__.Linear object at 0x7fc1e0139430>\n",
      "Config: {'name': 'linear_9', 'trainable': True, 'dtype': 'float32', 'units': 64}\n",
      "New Layer from config: <__main__.Linear object at 0x7fc1e0153a90>\n"
     ]
    }
   ],
   "source": [
    "layer = Linear(64)\n",
    "print(\"Layers:\", layer)\n",
    "\n",
    "config = layer.get_config()\n",
    "print(\"Config:\", config)\n",
    "\n",
    "new_layer = Linear.from_config(config)\n",
    "print(\"New Layer from config:\", new_layer)"
   ]
  },
  {
   "cell_type": "markdown",
   "metadata": {},
   "source": [
    "### Differently Behaving Layers"
   ]
  },
  {
   "cell_type": "markdown",
   "metadata": {},
   "source": [
    "Some layers, in particular the `BatchNormalization` layer and the `Dropout` layer, have different behaviors during training and inference.\n",
    "\n",
    "For such layers, it is standard practice to expose a `training` (boolean) argument in the `call()` method."
   ]
  },
  {
   "cell_type": "code",
   "execution_count": 20,
   "metadata": {
    "ExecuteTime": {
     "end_time": "2021-02-09T16:55:38.815447Z",
     "start_time": "2021-02-09T16:55:38.811693Z"
    }
   },
   "outputs": [],
   "source": [
    "# Sample dropout wrapper\n",
    "class CustomDropout(tf.keras.layers.Layer):\n",
    "    def __init__(self, rate, **kwargs):\n",
    "        super(CustomDropout, self).__init__(**kwargs)\n",
    "        self.rate = rate\n",
    "\n",
    "    def call(self, inputs, training=None):\n",
    "        if training:\n",
    "            return tf.nn.dropout(inputs, rate=self.rate)\n",
    "        return inputs"
   ]
  },
  {
   "cell_type": "code",
   "execution_count": 21,
   "metadata": {
    "ExecuteTime": {
     "end_time": "2021-02-09T16:55:38.820662Z",
     "start_time": "2021-02-09T16:55:38.816450Z"
    }
   },
   "outputs": [],
   "source": [
    "class MLPBlock(tf.keras.layers.Layer):\n",
    "    def __init__(self):\n",
    "        super(MLPBlock, self).__init__()\n",
    "        self.linear_1 = Linear(32)\n",
    "        self.linear_2 = Linear(32)\n",
    "        self.linear_3 = Linear(1)\n",
    "        self.dp = CustomDropout(rate=0.2)\n",
    "\n",
    "    def call(self, inputs):\n",
    "        x = self.linear_1(inputs)\n",
    "        x = tf.nn.relu(x)\n",
    "        x = self.linear_2(x)\n",
    "        x = tf.nn.relu(x)\n",
    "        x = self.dp(x)\n",
    "        y = self.linear_3(x)\n",
    "        return y"
   ]
  },
  {
   "cell_type": "code",
   "execution_count": 22,
   "metadata": {
    "ExecuteTime": {
     "end_time": "2021-02-09T16:55:38.835867Z",
     "start_time": "2021-02-09T16:55:38.821684Z"
    },
    "scrolled": true
   },
   "outputs": [
    {
     "name": "stdout",
     "output_type": "stream",
     "text": [
      "Weights: [<tf.Variable 'mlp_block_1/linear_10/Variable:0' shape=(64, 32) dtype=float32, numpy=\n",
      "array([[ 0.02888012,  0.01941005,  0.03883037, ...,  0.00694392,\n",
      "         0.05469983, -0.0375773 ],\n",
      "       [ 0.03368874, -0.03961131,  0.01829086, ...,  0.0191736 ,\n",
      "        -0.02835887, -0.03824697],\n",
      "       [-0.0118189 , -0.03702451, -0.06405965, ..., -0.10803524,\n",
      "        -0.08172522,  0.05049881],\n",
      "       ...,\n",
      "       [ 0.01918423,  0.00332862, -0.01296864, ...,  0.00072299,\n",
      "        -0.01678587,  0.08928937],\n",
      "       [ 0.06503984,  0.06318551, -0.09207523, ..., -0.03971914,\n",
      "         0.06888562, -0.10040945],\n",
      "       [-0.01152491, -0.02570651,  0.06771914, ..., -0.10177924,\n",
      "         0.01783559, -0.03269385]], dtype=float32)>, <tf.Variable 'mlp_block_1/linear_10/Variable:0' shape=(32,) dtype=float32, numpy=\n",
      "array([ 1.2617893e-02,  3.6020290e-02, -1.4786268e-02,  1.7590590e-02,\n",
      "        7.1845882e-02, -4.8739787e-02, -5.6671735e-02, -2.9385079e-02,\n",
      "        9.6995480e-02,  1.6119916e-02, -7.9049490e-02, -1.4398928e-04,\n",
      "       -4.7315679e-02, -3.2205221e-03, -3.7038617e-03, -7.1992368e-02,\n",
      "        7.9874776e-02, -1.5252975e-02, -1.2125787e-04, -3.1031692e-02,\n",
      "        1.4244959e-01,  2.3374384e-02, -7.0758797e-02,  3.6993787e-02,\n",
      "        3.6290731e-02,  5.7920264e-03,  4.0857803e-02,  7.7704780e-02,\n",
      "        3.5059005e-02, -1.8177418e-02, -9.0584485e-03, -5.0011605e-02],\n",
      "      dtype=float32)>, <tf.Variable 'mlp_block_1/linear_11/Variable:0' shape=(32, 32) dtype=float32, numpy=\n",
      "array([[-0.03641052,  0.03477647, -0.04734721, ..., -0.0032916 ,\n",
      "        -0.06762976,  0.01103091],\n",
      "       [ 0.04781675,  0.00846105, -0.01672344, ...,  0.04314489,\n",
      "        -0.09356938,  0.02476717],\n",
      "       [ 0.02358535,  0.05154778, -0.08347321, ...,  0.01000203,\n",
      "         0.05390023, -0.00375565],\n",
      "       ...,\n",
      "       [-0.03769269, -0.05672531, -0.02843151, ..., -0.00949014,\n",
      "        -0.02766389,  0.00081597],\n",
      "       [ 0.00219555,  0.03205142, -0.01485709, ..., -0.06170533,\n",
      "         0.03735213,  0.00537933],\n",
      "       [ 0.03735747,  0.04235984, -0.01841911, ...,  0.01116951,\n",
      "         0.0748615 ,  0.04500786]], dtype=float32)>, <tf.Variable 'mlp_block_1/linear_11/Variable:0' shape=(32,) dtype=float32, numpy=\n",
      "array([ 0.01047397, -0.00307099, -0.00637218,  0.0466666 ,  0.01867229,\n",
      "        0.00369591, -0.03280424, -0.00824062,  0.00267   , -0.0124349 ,\n",
      "       -0.07094784,  0.01378647, -0.00864283,  0.06028235,  0.05866481,\n",
      "       -0.05377024, -0.0459761 , -0.09294621,  0.02389981, -0.00315708,\n",
      "       -0.04148151, -0.08661406, -0.02566948,  0.07481177,  0.0590002 ,\n",
      "       -0.01026282,  0.00558144,  0.04666185,  0.06127905,  0.09573169,\n",
      "       -0.00728107,  0.01256945], dtype=float32)>, <tf.Variable 'mlp_block_1/linear_12/Variable:0' shape=(32, 1) dtype=float32, numpy=\n",
      "array([[ 0.09777495],\n",
      "       [-0.03829139],\n",
      "       [ 0.1117911 ],\n",
      "       [ 0.09130611],\n",
      "       [-0.03521255],\n",
      "       [-0.07137264],\n",
      "       [-0.04628984],\n",
      "       [-0.0132444 ],\n",
      "       [-0.07964759],\n",
      "       [ 0.03079265],\n",
      "       [-0.02146102],\n",
      "       [ 0.0032352 ],\n",
      "       [-0.0277913 ],\n",
      "       [-0.01215013],\n",
      "       [-0.04209512],\n",
      "       [-0.09228126],\n",
      "       [-0.03866567],\n",
      "       [-0.13744502],\n",
      "       [-0.06584372],\n",
      "       [-0.012992  ],\n",
      "       [-0.02109073],\n",
      "       [-0.0071421 ],\n",
      "       [-0.06140307],\n",
      "       [-0.05578434],\n",
      "       [-0.00225618],\n",
      "       [-0.04013   ],\n",
      "       [-0.02156169],\n",
      "       [ 0.00291883],\n",
      "       [-0.06506666],\n",
      "       [ 0.02448555],\n",
      "       [-0.02941099],\n",
      "       [-0.0332204 ]], dtype=float32)>, <tf.Variable 'mlp_block_1/linear_12/Variable:0' shape=(1,) dtype=float32, numpy=array([0.01665837], dtype=float32)>]\n"
     ]
    }
   ],
   "source": [
    "perceptron = MLPBlock()\n",
    "y = perceptron(tf.ones(shape=(100, 64)))\n",
    "\n",
    "print(\"Weights:\", perceptron.weights)"
   ]
  },
  {
   "cell_type": "markdown",
   "metadata": {},
   "source": [
    "The other privileged argument supported by call() is the `mask_zero` argument.\n",
    "\n",
    "TF automatically passes the correct boolean in suhch cases to __call__() for layers that support it."
   ]
  },
  {
   "cell_type": "markdown",
   "metadata": {},
   "source": [
    "## The Model Class"
   ]
  },
  {
   "cell_type": "markdown",
   "metadata": {},
   "source": [
    "The Model class has the same API as Layer, with the following differences:\n",
    "\n",
    "- It exposes built-in training, evaluation, and prediction loops (model.fit(), model.evaluate(), model.predict()).\n",
    "- It exposes the list of its inner layers, via the model.layers property.\n",
    "- It exposes saving and serialization APIs (save(), save_weights()...)\n",
    "\n",
    "In general, you will use the Layer class to define inner computation blocks, and will use the Model class to define the outer model -- the object you will train."
   ]
  },
  {
   "cell_type": "code",
   "execution_count": 23,
   "metadata": {
    "ExecuteTime": {
     "end_time": "2021-02-09T17:01:27.152144Z",
     "start_time": "2021-02-09T17:01:27.148007Z"
    }
   },
   "outputs": [],
   "source": [
    "class SampleModel(tf.keras.Model):\n",
    "    \n",
    "    def __init__(self, num_classes):\n",
    "        super(SampleModel, self).__init__()\n",
    "        self.b1 = MLPBlock()\n",
    "        self.b2 = MLPBlock()\n",
    "        self.classifier = tf.keras.layers.Dense(num_classes)\n",
    "    \n",
    "    def call(self, model_input):\n",
    "        x = self.b1(model_input)\n",
    "        x = self.b2(x)\n",
    "        return self.classifier(x)"
   ]
  },
  {
   "cell_type": "code",
   "execution_count": 24,
   "metadata": {
    "ExecuteTime": {
     "end_time": "2021-02-09T17:01:27.489679Z",
     "start_time": "2021-02-09T17:01:27.470538Z"
    }
   },
   "outputs": [
    {
     "name": "stdout",
     "output_type": "stream",
     "text": [
      "<__main__.SampleModel object at 0x7fc1e0139670>\n"
     ]
    }
   ],
   "source": [
    "model = SampleModel(num_classes=2)\n",
    "print(model)"
   ]
  },
  {
   "cell_type": "markdown",
   "metadata": {},
   "source": [
    "## Putting it all together: an end-to-end example"
   ]
  },
  {
   "cell_type": "markdown",
   "metadata": {},
   "source": [
    "- A Layer encapsulate a state (created in __init__() or build()) and some computation (defined in call()).\n",
    "- Layers can be recursively nested to create new, bigger computation blocks.\n",
    "- Layers can create and track losses (typically regularization losses) as well as metrics, via add_loss() and add_metric()\n",
    "- The outer container, the thing you want to train, is a Model. A Model is just like a Layer, but with added training and serialization utilities."
   ]
  },
  {
   "cell_type": "code",
   "execution_count": 25,
   "metadata": {
    "ExecuteTime": {
     "end_time": "2021-02-09T17:02:38.785516Z",
     "start_time": "2021-02-09T17:02:38.776697Z"
    }
   },
   "outputs": [],
   "source": [
    "from tensorflow.keras import layers\n",
    "\n",
    "\n",
    "class Sampling(layers.Layer):\n",
    "    \"\"\"Uses (z_mean, z_log_var) to sample z, the vector encoding a digit.\"\"\"\n",
    "\n",
    "    def call(self, inputs):\n",
    "        z_mean, z_log_var = inputs\n",
    "        batch = tf.shape(z_mean)[0]\n",
    "        dim = tf.shape(z_mean)[1]\n",
    "        epsilon = tf.keras.backend.random_normal(shape=(batch, dim))\n",
    "        return z_mean + tf.exp(0.5 * z_log_var) * epsilon\n",
    "\n",
    "\n",
    "class Encoder(layers.Layer):\n",
    "    \"\"\"Maps MNIST digits to a triplet (z_mean, z_log_var, z).\"\"\"\n",
    "\n",
    "    def __init__(self, latent_dim=32, intermediate_dim=64, name=\"encoder\", **kwargs):\n",
    "        super(Encoder, self).__init__(name=name, **kwargs)\n",
    "        self.dense_proj = layers.Dense(intermediate_dim, activation=\"relu\")\n",
    "        self.dense_mean = layers.Dense(latent_dim)\n",
    "        self.dense_log_var = layers.Dense(latent_dim)\n",
    "        self.sampling = Sampling()\n",
    "\n",
    "    def call(self, inputs):\n",
    "        x = self.dense_proj(inputs)\n",
    "        z_mean = self.dense_mean(x)\n",
    "        z_log_var = self.dense_log_var(x)\n",
    "        z = self.sampling((z_mean, z_log_var))\n",
    "        return z_mean, z_log_var, z\n",
    "\n",
    "\n",
    "class Decoder(layers.Layer):\n",
    "    \"\"\"Converts z, the encoded digit vector, back into a readable digit.\"\"\"\n",
    "\n",
    "    def __init__(self, original_dim, intermediate_dim=64, name=\"decoder\", **kwargs):\n",
    "        super(Decoder, self).__init__(name=name, **kwargs)\n",
    "        self.dense_proj = layers.Dense(intermediate_dim, activation=\"relu\")\n",
    "        self.dense_output = layers.Dense(original_dim, activation=\"sigmoid\")\n",
    "\n",
    "    def call(self, inputs):\n",
    "        x = self.dense_proj(inputs)\n",
    "        return self.dense_output(x)"
   ]
  },
  {
   "cell_type": "code",
   "execution_count": 26,
   "metadata": {
    "ExecuteTime": {
     "end_time": "2021-02-09T17:02:46.032512Z",
     "start_time": "2021-02-09T17:02:46.027387Z"
    }
   },
   "outputs": [],
   "source": [
    "class VariationalAutoEncoder(tf.keras.Model):\n",
    "    \"\"\"Combines the encoder and decoder into an end-to-end model for training.\"\"\"\n",
    "\n",
    "    def __init__(\n",
    "        self,\n",
    "        original_dim,\n",
    "        intermediate_dim=64,\n",
    "        latent_dim=32,\n",
    "        name=\"autoencoder\",\n",
    "        **kwargs\n",
    "    ):\n",
    "        super(VariationalAutoEncoder, self).__init__(name=name, **kwargs)\n",
    "        self.original_dim = original_dim\n",
    "        self.encoder = Encoder(latent_dim=latent_dim, intermediate_dim=intermediate_dim)\n",
    "        self.decoder = Decoder(original_dim, intermediate_dim=intermediate_dim)\n",
    "\n",
    "    def call(self, inputs):\n",
    "        z_mean, z_log_var, z = self.encoder(inputs)\n",
    "        reconstructed = self.decoder(z)\n",
    "        # Add KL divergence regularization loss.\n",
    "        kl_loss = -0.5 * tf.reduce_mean(\n",
    "            z_log_var - tf.square(z_mean) - tf.exp(z_log_var) + 1\n",
    "        )\n",
    "        self.add_loss(kl_loss)\n",
    "        return reconstructed"
   ]
  },
  {
   "cell_type": "code",
   "execution_count": 27,
   "metadata": {
    "ExecuteTime": {
     "end_time": "2021-02-09T17:03:52.781797Z",
     "start_time": "2021-02-09T17:03:41.874517Z"
    }
   },
   "outputs": [
    {
     "name": "stdout",
     "output_type": "stream",
     "text": [
      "Start of epoch 1\n",
      "step 0: mean loss = 0.3538\n",
      "step 100: mean loss = 0.1257\n",
      "step 200: mean loss = 0.0992\n",
      "step 300: mean loss = 0.0892\n",
      "step 400: mean loss = 0.0843\n",
      "step 500: mean loss = 0.0809\n",
      "step 600: mean loss = 0.0788\n",
      "step 700: mean loss = 0.0772\n",
      "step 800: mean loss = 0.0760\n",
      "step 900: mean loss = 0.0750\n",
      "Start of epoch 2\n",
      "step 0: mean loss = 0.0747\n",
      "step 100: mean loss = 0.0740\n",
      "step 200: mean loss = 0.0735\n",
      "step 300: mean loss = 0.0731\n",
      "step 400: mean loss = 0.0727\n",
      "step 500: mean loss = 0.0723\n",
      "step 600: mean loss = 0.0720\n",
      "step 700: mean loss = 0.0717\n",
      "step 800: mean loss = 0.0715\n",
      "step 900: mean loss = 0.0712\n"
     ]
    }
   ],
   "source": [
    "# Simple training loop on MNIST data\n",
    "original_dim = 784\n",
    "vae = VariationalAutoEncoder(original_dim, 64, 32)\n",
    "\n",
    "optimizer = tf.keras.optimizers.Adam(learning_rate=1e-3)\n",
    "mse_loss_fn = tf.keras.losses.MeanSquaredError()\n",
    "\n",
    "loss_metric = tf.keras.metrics.Mean()\n",
    "\n",
    "(x_train, _), _ = tf.keras.datasets.mnist.load_data()\n",
    "x_train = x_train.reshape(60000, 784).astype(\"float32\") / 255\n",
    "\n",
    "train_dataset = tf.data.Dataset.from_tensor_slices(x_train)\n",
    "train_dataset = train_dataset.shuffle(buffer_size=1024).batch(64)\n",
    "\n",
    "epochs = 2\n",
    "\n",
    "# Iterate over epochs.\n",
    "for epoch in range(1, epochs+1):\n",
    "    print(\"Start of epoch %d\" % (epoch,))\n",
    "\n",
    "    # Iterate over the batches of the dataset.\n",
    "    for step, x_batch_train in enumerate(train_dataset):\n",
    "        with tf.GradientTape() as tape:\n",
    "            reconstructed = vae(x_batch_train)\n",
    "            # Compute reconstruction loss\n",
    "            loss = mse_loss_fn(x_batch_train, reconstructed)\n",
    "            loss += sum(vae.losses)  # Add KLD regularization loss\n",
    "\n",
    "        grads = tape.gradient(loss, vae.trainable_weights)\n",
    "        optimizer.apply_gradients(zip(grads, vae.trainable_weights))\n",
    "\n",
    "        loss_metric(loss)\n",
    "\n",
    "        if step % 100 == 0:\n",
    "            print(\"step %d: mean loss = %.4f\" % (step, loss_metric.result()))"
   ]
  },
  {
   "cell_type": "markdown",
   "metadata": {},
   "source": [
    "Also, it can be trained using the built-in training loops like any other model."
   ]
  },
  {
   "cell_type": "code",
   "execution_count": 28,
   "metadata": {
    "ExecuteTime": {
     "end_time": "2021-02-09T17:04:36.686855Z",
     "start_time": "2021-02-09T17:04:33.367803Z"
    }
   },
   "outputs": [
    {
     "name": "stdout",
     "output_type": "stream",
     "text": [
      "Epoch 1/2\n",
      "938/938 [==============================] - 3s 2ms/step - loss: 0.0750\n",
      "Epoch 2/2\n",
      "938/938 [==============================] - 2s 2ms/step - loss: 0.0676\n"
     ]
    },
    {
     "data": {
      "text/plain": [
       "<keras.callbacks.History at 0x7fc1d00878e0>"
      ]
     },
     "execution_count": 28,
     "metadata": {},
     "output_type": "execute_result"
    }
   ],
   "source": [
    "vae = VariationalAutoEncoder(784, 64, 32)\n",
    "\n",
    "optimizer = tf.keras.optimizers.Adam(learning_rate=1e-3)\n",
    "\n",
    "vae.compile(optimizer, loss=tf.keras.losses.MeanSquaredError())\n",
    "vae.fit(x_train, x_train, epochs=2, batch_size=64)"
   ]
  },
  {
   "cell_type": "code",
   "execution_count": null,
   "metadata": {},
   "outputs": [],
   "source": []
  }
 ],
 "metadata": {
  "interpreter": {
   "hash": "31f2aee4e71d21fbe5cf8b01ff0e069b9275f58929596ceb00d14d90e3e16cd6"
  },
  "kernelspec": {
   "display_name": "Python [conda env:dl-env]",
   "language": "python",
   "name": "python3"
  },
  "language_info": {
   "codemirror_mode": {
    "name": "ipython",
    "version": 3
   },
   "file_extension": ".py",
   "mimetype": "text/x-python",
   "name": "python",
   "nbconvert_exporter": "python",
   "pygments_lexer": "ipython3",
   "version": "3.8.10"
  },
  "toc": {
   "base_numbering": 1,
   "nav_menu": {},
   "number_sections": true,
   "sideBar": true,
   "skip_h1_title": false,
   "title_cell": "Table of Contents",
   "title_sidebar": "Contents",
   "toc_cell": false,
   "toc_position": {},
   "toc_section_display": true,
   "toc_window_display": false
  },
  "varInspector": {
   "cols": {
    "lenName": 16,
    "lenType": 16,
    "lenVar": 40
   },
   "kernels_config": {
    "python": {
     "delete_cmd_postfix": "",
     "delete_cmd_prefix": "del ",
     "library": "var_list.py",
     "varRefreshCmd": "print(var_dic_list())"
    },
    "r": {
     "delete_cmd_postfix": ") ",
     "delete_cmd_prefix": "rm(",
     "library": "var_list.r",
     "varRefreshCmd": "cat(var_dic_list()) "
    }
   },
   "types_to_exclude": [
    "module",
    "function",
    "builtin_function_or_method",
    "instance",
    "_Feature"
   ],
   "window_display": false
  }
 },
 "nbformat": 4,
 "nbformat_minor": 4
}
